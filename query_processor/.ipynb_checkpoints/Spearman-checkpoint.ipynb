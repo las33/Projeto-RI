{
 "cells": [
  {
   "cell_type": "code",
   "execution_count": 17,
   "metadata": {},
   "outputs": [],
   "source": [
    "from query_processing import rank"
   ]
  },
  {
   "cell_type": "code",
   "execution_count": 18,
   "metadata": {},
   "outputs": [],
   "source": [
    "def spearman_correlation(r1, r2):\n",
    "    K = len(r1)\n",
    "    pos1 = {}\n",
    "    for pos, item in enumerate(r1):\n",
    "        pos1[item[0]] = pos\n",
    "    pos2 = {}\n",
    "    for pos, item in enumerate(r2):\n",
    "        pos2[item[0]] = pos\n",
    "#     print(pos1)\n",
    "    E=0\n",
    "    for key in pos1.keys():\n",
    "        E += (pos1[key] - pos2[key])**2\n",
    "    return 1 - ((E*6)/(K*((K**2)-1)))"
   ]
  },
  {
   "cell_type": "code",
   "execution_count": 22,
   "metadata": {},
   "outputs": [
    {
     "data": {
      "text/plain": [
       "0.7368376837683768"
      ]
     },
     "execution_count": 22,
     "metadata": {},
     "output_type": "execute_result"
    }
   ],
   "source": [
    "spearman_correlation(rank('index.json','livros de ficção'), rank('index.json','livros de ficção', idf=True))"
   ]
  }
 ],
 "metadata": {
  "kernelspec": {
   "display_name": "Python 3",
   "language": "python",
   "name": "python3"
  },
  "language_info": {
   "codemirror_mode": {
    "name": "ipython",
    "version": 3
   },
   "file_extension": ".py",
   "mimetype": "text/x-python",
   "name": "python",
   "nbconvert_exporter": "python",
   "pygments_lexer": "ipython3",
   "version": "3.6.1"
  }
 },
 "nbformat": 4,
 "nbformat_minor": 2
}
