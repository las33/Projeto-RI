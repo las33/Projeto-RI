{
 "cells": [
  {
   "cell_type": "markdown",
   "metadata": {},
   "source": [
    "## Processamento de consulta"
   ]
  },
  {
   "cell_type": "code",
   "execution_count": 1,
   "metadata": {},
   "outputs": [],
   "source": [
    "import math\n",
    "import json\n",
    "import operator\n",
    "from collections import Counter\n",
    "\n",
    "class QueryProcessing():    \n",
    "    def load(self, path): # carregar o indice invertido no formato json\n",
    "        f = open(path)\n",
    "        return json.load(f)\n",
    "\n",
    "    def init_vectors(self, spl): # inicia as tres estruturas base, recebe o indice invertido como paramentro (sample)\n",
    "        docs = set() # lista de documentos reconhecidos pelo indice invertido\n",
    "        length = {} # a quantidade de vezes que um documento foi referenciado\n",
    "        scores = {} # estrutura base de score, cada chave é um documento que tem valor 0 (zero)\n",
    "\n",
    "        for key in spl.keys(): # processa cada token do indice invertido\n",
    "            dc = spl[key][1] # lista de documentos onde o token ocorre\n",
    "            for item in dc.keys():\n",
    "                docs.add(item) # adiciona o documento\n",
    "                if item not in length:\n",
    "                    length[item] = 0\n",
    "                length[item] += dc[item] # contabiliza um para esse documento\n",
    "                scores[item] = 0 # inicializa o valor 0 (zero) para esse documento\n",
    "\n",
    "        return (docs, length, scores)\n",
    "    \n",
    "    def __init__(self, index_path):\n",
    "        self.sample = self.load(index_path)\n",
    "        self.docs, self.length, self.scores = self.init_vectors(self.sample)\n",
    "\n",
    "    def rank(self, query, attr=\"\", idf=False): # ranqueamento dos documentos para uma query\n",
    "        query_terms = set([attr + \".\" + q if attr != \"\" else q for q in query.split()]) # processa de acordo com o attr informado (para consultas estruturadas)\n",
    "        query_tf = Counter(query_terms) # tf da consulta, contagem de termos\n",
    "        vocabulary = set(self.sample.keys()) # vocabulario do indice invertido (lista de tokens)\n",
    "        terms = query_terms.intersection(vocabulary) # filtro de tokens que existem no vocabulario\n",
    "        docs_score = dict(self.scores) # uma copia da estrutura de scores para os documentos que serao ranqueados\n",
    "\n",
    "        for term in terms: # metodo Term-at-a-time\n",
    "            term_docs = self.sample[term][1] # lista de documentos que o termo ocorre\n",
    "            wq = query_tf[term] # peso da query (tf puro)\n",
    "            if idf: # caso considere o idf\n",
    "                widf = math.log10(len(self.docs)/len(term_docs))\n",
    "            for doc in term_docs: \n",
    "                if idf:\n",
    "                    docs_score[doc] += term_docs[doc] * wq * widf\n",
    "                else:\n",
    "                    docs_score[doc] += term_docs[doc] * wq\n",
    "\n",
    "        for s in self.scores.keys(): # normalizacao\n",
    "            docs_score[s] = docs_score[s]/self.length[s]\n",
    "\n",
    "        return sorted(docs_score.items(), key=operator.itemgetter(1), reverse=True) # ordenar pelo maior ranking"
   ]
  },
  {
   "cell_type": "markdown",
   "metadata": {},
   "source": [
    "### Como usar"
   ]
  },
  {
   "cell_type": "markdown",
   "metadata": {},
   "source": [
    "Primeiramente deve ser instanciado a classe QueryProcessing, informando o índice invertido a ser utilizado"
   ]
  },
  {
   "cell_type": "code",
   "execution_count": 3,
   "metadata": {},
   "outputs": [],
   "source": [
    "qp = QueryProcessing(index_path=\"inverted_index.json\")"
   ]
  },
  {
   "cell_type": "markdown",
   "metadata": {},
   "source": [
    "Com isso, serão construídos o conjunto de documentos reconhecidos pelo índice, e algumas estruturas base"
   ]
  },
  {
   "cell_type": "markdown",
   "metadata": {},
   "source": [
    "O próximo passo é chamar o método ```rank```, passando como parametro a query a ser processada, obtendo a lista ranqueada de documentos que correspondem a essa query. Esse método tem dois parametros opcionais: ```attr```, serve para consultas estruturadas ```[direcao, titulo, elenco]```, seu valor padrão é \"\", caso não especificado; ```idf```, um valor booleano que corresponde a utilização, ou não, do idf no momento do ranqueamento, seu valor padrão é ```False``` "
   ]
  },
  {
   "cell_type": "code",
   "execution_count": 6,
   "metadata": {
    "scrolled": true
   },
   "outputs": [],
   "source": [
    "qp.rank(query=\"roman polanski\", attr=\"direcao\", idf=True)"
   ]
  }
 ],
 "metadata": {
  "kernelspec": {
   "display_name": "Python 3",
   "language": "python",
   "name": "python3"
  },
  "language_info": {
   "codemirror_mode": {
    "name": "ipython",
    "version": 3
   },
   "file_extension": ".py",
   "mimetype": "text/x-python",
   "name": "python",
   "nbconvert_exporter": "python",
   "pygments_lexer": "ipython3",
   "version": "3.6.1"
  }
 },
 "nbformat": 4,
 "nbformat_minor": 2
}
