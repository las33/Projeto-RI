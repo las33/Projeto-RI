{
 "cells": [
  {
   "cell_type": "code",
   "execution_count": 2,
   "metadata": {},
   "outputs": [],
   "source": [
    "import math\n",
    "import json\n",
    "import operator\n",
    "from collections import Counter\n",
    "\n",
    "def load(path):\n",
    "    f = open(path)\n",
    "    return json.load(f)\n",
    "\n",
    "def init_vectors(sample):\n",
    "    docs = set()\n",
    "    lenght = {}\n",
    "    scores = {}\n",
    "    \n",
    "    for itens in sample.items():\n",
    "        for item in itens[1]:\n",
    "            docs.add(item[0])\n",
    "            if item[0] not in lenght:\n",
    "                lenght[item[0]] = 0\n",
    "            lenght[item[0]] += item[1]\n",
    "            scores[item[0]] = 0\n",
    "            \n",
    "    return (docs, lenght, scores)\n",
    "\n",
    "def rank(path, query, idf=False):\n",
    "    sample = load(path)\n",
    "    \n",
    "    docs, lenght, scores = init_vectors(sample)\n",
    "\n",
    "    query_tf = Counter(query.split())\n",
    "    query_terms = set(query_tf.keys())\n",
    "    vocabulary = set(sample.keys())\n",
    "    terms = query_terms.intersection(vocabulary)\n",
    "\n",
    "    for term in terms: # Term-at-a-time\n",
    "        wq = query_tf[term]\n",
    "        widf = math.log10(len(docs)/len(sample[term]))\n",
    "        for doc in sample[term]:        \n",
    "            if idf:\n",
    "                scores[doc[0]] += doc[1] * wq * widf\n",
    "            else:\n",
    "                scores[doc[0]] += doc[1] * wq\n",
    "\n",
    "    return sorted(scores.items(), key=operator.itemgetter(1), reverse=True)"
   ]
  },
  {
   "cell_type": "code",
   "execution_count": 8,
   "metadata": {},
   "outputs": [],
   "source": [
    "path = \"index.json\"\n",
    "query = \"livros de ficção\"\n",
    "idf = True\n",
    "\n",
    "rank(path, query, idf)"
   ]
  }
 ],
 "metadata": {
  "kernelspec": {
   "display_name": "Python 3",
   "language": "python",
   "name": "python3"
  },
  "language_info": {
   "codemirror_mode": {
    "name": "ipython",
    "version": 3
   },
   "file_extension": ".py",
   "mimetype": "text/x-python",
   "name": "python",
   "nbconvert_exporter": "python",
   "pygments_lexer": "ipython3",
   "version": "3.6.1"
  }
 },
 "nbformat": 4,
 "nbformat_minor": 2
}
