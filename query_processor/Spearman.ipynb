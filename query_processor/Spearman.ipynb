{
 "cells": [
  {
   "cell_type": "code",
   "execution_count": 17,
   "metadata": {},
   "outputs": [],
   "source": [
    "from query_processing import rank"
   ]
  },
  {
   "cell_type": "code",
   "execution_count": 18,
   "metadata": {},
   "outputs": [],
   "source": [
    "def spearman_correlation(r1, r2):\n",
    "    K = len(r1)\n",
    "    pos1 = {}\n",
    "    for pos, item in enumerate(r1):\n",
    "        pos1[item[0]] = pos\n",
    "    pos2 = {}\n",
    "    for pos, item in enumerate(r2):\n",
    "        pos2[item[0]] = pos\n",
    "#     print(pos1)\n",
    "    E=0\n",
    "    for key in pos1.keys():\n",
    "        E += (pos1[key] - pos2[key])**2\n",
    "    return 1 - ((E*6)/(K*((K**2)-1)))"
   ]
  },
  {
   "cell_type": "code",
   "execution_count": 21,
   "metadata": {},
   "outputs": [
    {
     "name": "stdout",
     "output_type": "stream",
     "text": [
      "[(78, 822), (70, 812), (79, 812), (71, 811), (73, 806), (74, 805), (72, 801), (76, 797), (75, 796), (50, 479), (98, 404), (91, 402), (92, 382), (99, 380), (90, 246), (96, 212), (94, 192), (95, 190), (12, 163), (93, 162), (97, 157), (11, 148), (16, 148), (10, 139), (13, 137), (19, 132), (14, 120), (15, 119), (18, 115), (58, 115), (110, 109), (156, 109), (112, 106), (118, 105), (56, 104), (116, 103), (113, 102), (115, 101), (119, 99), (114, 98), (117, 98), (111, 96), (54, 96), (153, 93), (52, 92), (59, 91), (151, 87), (57, 85), (51, 84), (55, 84), (53, 82), (154, 78), (196, 76), (159, 69), (192, 68), (199, 68), (132, 65), (17, 64), (150, 64), (134, 61), (194, 61), (136, 60), (195, 59), (152, 58), (155, 58), (191, 58), (198, 58), (137, 55), (139, 55), (133, 54), (190, 54), (193, 54), (130, 50), (197, 47), (135, 46), (138, 46), (131, 44), (173, 42), (39, 42), (174, 41), (33, 40), (34, 36), (178, 34), (38, 34), (175, 33), (32, 33), (37, 33), (157, 32), (30, 32), (176, 31), (31, 31), (35, 31), (172, 30), (179, 26), (158, 24), (36, 23), (170, 21), (171, 19), (177, 16), (77, 0)]\n"
     ]
    }
   ],
   "source": [
    "spearman_correlation(rank('index.json','livros de ficção'), rank('index.json','livros de ficção', idf=True))"
   ]
  },
  {
   "cell_type": "code",
   "execution_count": null,
   "metadata": {},
   "outputs": [],
   "source": []
  }
 ],
 "metadata": {
  "kernelspec": {
   "display_name": "Python 3",
   "language": "python",
   "name": "python3"
  },
  "language_info": {
   "codemirror_mode": {
    "name": "ipython",
    "version": 3
   },
   "file_extension": ".py",
   "mimetype": "text/x-python",
   "name": "python",
   "nbconvert_exporter": "python",
   "pygments_lexer": "ipython3",
   "version": "3.6.1"
  }
 },
 "nbformat": 4,
 "nbformat_minor": 2
}
