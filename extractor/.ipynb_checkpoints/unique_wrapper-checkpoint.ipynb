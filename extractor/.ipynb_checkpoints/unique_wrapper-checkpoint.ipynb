{
 "cells": [
  {
   "cell_type": "code",
   "execution_count": 44,
   "metadata": {},
   "outputs": [],
   "source": [
    "from lxml import etree\n",
    "from unicodedata import normalize"
   ]
  },
  {
   "cell_type": "code",
   "execution_count": 2,
   "metadata": {},
   "outputs": [],
   "source": [
    "parser = etree.HTMLParser()\n",
    "root = './pages/pag'"
   ]
  },
  {
   "cell_type": "code",
   "execution_count": 3,
   "metadata": {},
   "outputs": [],
   "source": [
    "# run into the element recursively getting the text\n",
    "def get_element_text(elem):\n",
    "    if len(elem) == 0:\n",
    "        if elem != []:\n",
    "            if elem.tag == \"br\":\n",
    "                return \"\\n\"\n",
    "            elif elem.text == None:\n",
    "                return \"\"\n",
    "            else:\n",
    "                return elem.text\n",
    "        else:\n",
    "            return \"\"\n",
    "    else:\n",
    "        if elem[0].tag == 'br':\n",
    "            return \"\\n\" + (\"\" if elem[0].tail == None else elem[0].tail.strip()) + get_element_text(elem[1:])\n",
    "        if elem[0].tail != None and elem[0].tail.strip() != \"\":\n",
    "            return (elem.text.strip() if isinstance(elem, etree._Element) and elem.text != None else \"\") + (\"\" if elem[0].text == None else elem[0].text) + (\"\" if len(elem[0]) == 0 else get_element_text(elem[0][:])) + elem[0].tail + get_element_text(elem[1:])\n",
    "        else:\n",
    "            return (elem.text.strip() if isinstance(elem, etree._Element) and elem.text != None else \"\") +  (\"\" if elem[0].text == None else elem[0].text) + (\"\" if len(elem[0]) == 0 else get_element_text(elem[0][:])) + get_element_text(elem[1:])"
   ]
  },
  {
   "cell_type": "code",
   "execution_count": 41,
   "metadata": {},
   "outputs": [],
   "source": [
    "def remover_acentos(txt):\n",
    "    return normalize('NFKD', txt).encode('ASCII', 'ignore').decode('ASCII')"
   ]
  },
  {
   "cell_type": "code",
   "execution_count": 58,
   "metadata": {},
   "outputs": [],
   "source": [
    "def text_normalize(text):\n",
    "    return normalize(\"NFKD\",text)"
   ]
  },
  {
   "cell_type": "code",
   "execution_count": 82,
   "metadata": {},
   "outputs": [],
   "source": [
    "cast_check_list = [\"Intérpretes\", \"Elenco\"]\n",
    "director_check_list = [\"Direção\", \"Diretor\"]\n",
    "script_check_list = [\"Roteiro\"]\n",
    "genre_check_list = [\"Gênero\"]\n",
    "def get_all_information(elem, depth):\n",
    "    if depth < 3:\n",
    "        cast = any(cast in get_element_text(elem) for cast in cast_check_list)\n",
    "        director = any(direc in get_element_text(elem) for direc in director_check_list)\n",
    "        script = any(sct in get_element_text(elem) for sct in script_check_list)\n",
    "        genre = any(gen in get_element_text(elem) for gen in genre_check_list)\n",
    "        \n",
    "        if (cast and (director or script)) or (director and genre):\n",
    "            return (\"Found!\", elem, depth, get_element_text(elem))\n",
    "        else:\n",
    "            return get_all_information(elem.getparent(), depth+1)\n",
    "    else:\n",
    "         return (\"Not found!\", elem, depth)"
   ]
  },
  {
   "cell_type": "code",
   "execution_count": 40,
   "metadata": {},
   "outputs": [],
   "source": [
    "# todas as possíveis categorias mapeadas para os domínios (forma de categorizar a informação extraída mais facil)\n",
    "top_words = (\"Direção\",\"Elenco\",\"Intérpretes\",\"Gênero\",\"Duração\",\"Classificação\",\"Roteiro\",\"Ano\",\"Produção\",\"Fotografia\",\"Trilha Sonora\",\"Estudio\",\"Montador\",\"Montagem\",\"Distribuidora\",\"Música\",\"Design de Produção\",\"Figurino\",\"Censura\")\n",
    "# todas as palavras que estão na extração, mas não servem e podem atrapalhar a categorização das informações\n",
    "bad_words = [\"Ficha técnica\",\"Equipe técnica\"]\n",
    "\n",
    "def which_top_words_startswith(text):\n",
    "    if text.startswith(top_words):\n",
    "        for top in top_words:\n",
    "            if text.startswith(top):\n",
    "                return top\n",
    "    else:\n",
    "        return None"
   ]
  },
  {
   "cell_type": "code",
   "execution_count": 64,
   "metadata": {},
   "outputs": [],
   "source": [
    "def extract_by_breakline(element):\n",
    "    info = get_element_text(element).split(\"\\n\")\n",
    "    filme = {}\n",
    "    for item in info:\n",
    "        categoria = which_top_words_startswith(item)\n",
    "        if categoria != None:\n",
    "            item = item[len(categoria):].strip() # apenas a informação\n",
    "            if item.startswith(\":\"):\n",
    "                item = item[1:].strip() # apenas a informação, sem ':'\n",
    "                if item: # não vazio...\n",
    "                    filme[remover_acentos(categoria).lower()] = text_normalize(item)\n",
    "    return filme"
   ]
  },
  {
   "cell_type": "code",
   "execution_count": 34,
   "metadata": {},
   "outputs": [],
   "source": [
    "# breve descrição da lógica proposta para o extrator geral:\n",
    "# > Se houver categoria e ':' e algum texto depois disso, é uma informação a ser extraída\n",
    "# \t> Considera o termo antes de ':' como a categoria, e o que houver depois de ':' a informação\n",
    "\n",
    "# > Se for uma linha vazia, pode considerar que uma nova informação está por vir...\n",
    "# \t> ignora...\n",
    "\n",
    "# > Se for uma categoria e não tiver \":\" mas tem texto a seguir\n",
    "# \t> considera a categoria, remove-a do texto -> strip() -> e atribui o restante como informação\n",
    "\n",
    "# > Se for uma categoria e não tiver \":\" nem texto a seguir, a informação referente pode estar por vir...\n",
    "# \t> Enquanto não aparecer uma linha em branco, ou uma nova categoria, ou uma stopword, adicionar à ultima categoria vista\n",
    "\n",
    "# > Se for uma categoria e tiver \":\" mas não houver texto a seguir OU se for uma categoria, não tiver \":\" e a próxima linha for em branco, a forma de extração está errada para esse caso\n",
    "# \t> Chamar o método get_element_text para o div pai, dar split em '\\n' e realizar as condições acima"
   ]
  },
  {
   "cell_type": "code",
   "execution_count": 87,
   "metadata": {},
   "outputs": [
    {
     "name": "stdout",
     "output_type": "stream",
     "text": [
      "Peyton Reed.\n",
      "Paul Rudd, Evangeline Lilly, Michael Douglas, Michelle Pfeiffer.\n",
      "ação. EUA, 2018.\n",
      "118 minutos.\n",
      "{'direcao': 'Peyton Reed.', 'interpretes': 'Paul Rudd, Evangeline Lilly, Michael Douglas, Michelle Pfeiffer.', 'genero': 'ação. EUA, 2018.', 'duracao': '118 minutos.'}\n",
      "Susanna Nicchiarelli.\n",
      "Tryne Dyrholm, John Gordon Sinclair, Anamaria Marinca, Sandor Funtek.\n",
      "musical. Itália, 2017.\n",
      "93 minutos.\n",
      "{'direcao': 'Susanna Nicchiarelli.', 'interpretes': 'Tryne Dyrholm, John Gordon Sinclair, Anamaria Marinca, Sandor Funtek.', 'genero': 'musical. Itália, 2017.', 'duracao': '93 minutos.'}\n",
      "Genndy Tartakovsky.\n",
      "comédia. Estados Unidos, 2018.\n",
      "97 minutos.\n",
      "{'direcao': 'Genndy Tartakovsky.', 'genero': 'comédia. Estados Unidos, 2018.', 'duracao': '97 minutos.'}\n",
      "Ol Parker.\n",
      "Lily James, Amanda Seyfried, Christine Baranski, Pierce Brosnan.\n",
      "musical. Reino Unido, 2018.\n",
      "114 minutos.\n",
      "{'direcao': 'Ol Parker.', 'elenco': 'Lily James, Amanda Seyfried, Christine Baranski, Pierce Brosnan.', 'genero': 'musical. Reino Unido, 2018.', 'duracao': '114 minutos.'}\n",
      "Christopher McQuarrie.\n",
      "Tom Cruise, Sean Harris, Henry Cavill, Rebecca Ferguson.\n",
      "thriller.\n",
      "147 minutos.\n",
      "{'direcao': 'Christopher McQuarrie.', 'interpretes': 'Tom Cruise, Sean Harris, Henry Cavill, Rebecca Ferguson.', 'genero': 'thriller.', 'duracao': '147 minutos.'}\n",
      "Fernando León de Aranoa.\n",
      "Javier Bardem, Penélope Cruz, Peter Sarsgaard.\n",
      "‘biopic’. Espanha, 2017.\n",
      "123 minutos.\n",
      "{'direcao': 'Fernando León de Aranoa.', 'elenco': 'Javier Bardem, Penélope Cruz, Peter Sarsgaard.', 'genero': '‘biopic’. Espanha, 2017.', 'duracao': '123 minutos.'}\n",
      "Ryan Coogler.\n",
      "Chadwick Boseman, Michael B. Jordan, Lupita Nyong’o, Danai Gurira.\n",
      "ficção científica. Estados Unidos, 2018.\n",
      "134 minutos.\n",
      "{'direcao': 'Ryan Coogler.', 'elenco': 'Chadwick Boseman, Michael B. Jordan, Lupita Nyong’o, Danai Gurira.', 'genero': 'ficção científica. Estados Unidos, 2018.', 'duracao': '134 minutos.'}\n",
      "Paul Thomas Anderson.\n",
      "Daniel Day-Lewis, Lesley Manville, Vicky Krieps, Richard Graham.\n",
      "drama. EUA, 2017.\n",
      "130 minutos.\n",
      "{'direcao': 'Paul Thomas Anderson.', 'elenco': 'Daniel Day-Lewis, Lesley Manville, Vicky Krieps, Richard Graham.', 'genero': 'drama. EUA, 2017.', 'duracao': '130 minutos.'}\n",
      "Jason Reitman.\n",
      "Charlize Theron, Mackenzie Davis, Rum Livingston, Mark Duplass.\n",
      "drama. EUA, 2018.\n",
      "95 minutos.\n",
      "{'direcao': 'Jason Reitman.', 'interpretes': 'Charlize Theron, Mackenzie Davis, Rum Livingston, Mark Duplass.', 'genero': 'drama. EUA, 2018.', 'duracao': '95 minutos.'}\n"
     ]
    }
   ],
   "source": [
    "# categorias obrigatórias para seleção de elemento da DOM\n",
    "list_word = [\"intérpretes\", \"elenco\",\"diretor\",\"direção\"]\n",
    "# 4-tupla para a função startswith\n",
    "search_words = (\"intérpretes:\", \"elenco:\",\"diretor:\",\"direção:\")\n",
    "\n",
    "for i in [1,2,3,4,5,6,7,8,9]:#,11,21,31,41,51,61,71,81,91]:#range(1,101):\n",
    "    tree = etree.parse(root + str(i) + '.html', parser)\n",
    "    check = False\n",
    "    content = None\n",
    "    # percorre cada elemento da arvore DOM\n",
    "    for item in tree.iter():\n",
    "        # busca o elemento que tenha uma das search_words/list_words\n",
    "        if item.text != None and (item.text.lower().startswith(search_words) or item.text.lower() in list_word) and not check:            \n",
    "            # get_all_information busca o elemento pai que contem todas os pares a ser extraido\n",
    "            result = get_all_information(item, 0)\n",
    "#             print(result)\n",
    "            if result[0] == \"Found!\": # controle para caso confirme a busca do pai\n",
    "                content = result[1]\n",
    "                break\n",
    "#             else:\n",
    "#                 print(get_element_text(result[1]))\n",
    "            check=True\n",
    "            \n",
    "#     print('content', i, content)\n",
    "    if content != None:\n",
    "        filme = {}\n",
    "        ultima_categoria = {\"status\": False, \"value\": \"\"}\n",
    "        for x in content: # percorre cada filho, buscando os pares a ser extraido\n",
    "            info = get_element_text(x).strip()\n",
    "            if info:\n",
    "                categoria = which_top_words_startswith(info)\n",
    "                if categoria != None:\n",
    "                    ultima_categoria['status'] = False # para a atribuição iterativa, começa uma nova categoria\n",
    "                    info = info[len(categoria):].strip() # apenas a informação\n",
    "                    if info.startswith(\":\"):\n",
    "                        info = info[1:].strip() # apenas a informação, sem ':'\n",
    "                        if info: # não vazio...\n",
    "                            print(info)\n",
    "                            filme[remover_acentos(categoria).lower()] = info\n",
    "                        else: # vazio ERRO\n",
    "                            print(\"erro... redirecionando...\")\n",
    "                            filme = extract_by_breakline(content)\n",
    "                            break\n",
    "                    else:\n",
    "                        ultima_categoria['status'] = True\n",
    "                        ultima_categoria['value'] = categoria\n",
    "                elif ultima_categoria['status'] == True and info not in bad_words:\n",
    "                    pass\n",
    "            else: # vazio\n",
    "                ultima_categoria['status'] = False\n",
    "        print(filme)"
   ]
  },
  {
   "cell_type": "code",
   "execution_count": 48,
   "metadata": {
    "scrolled": false
   },
   "outputs": [
    {
     "name": "stdout",
     "output_type": "stream",
     "text": [
      "61\n",
      "Funny Girl – Uma Garota Genial (Funny Girl) – EUA, 1968\n",
      "Direção: William Wyler\n",
      "Roteiro: Isobel Lennart (baseado em Funny Girl, escrito por Isobel Lennart, Jule Stynne e Bob Merrill)\n",
      "Elenco: Barbra Streisand, Omar Sharif, Kay Medford, Anne Francis, Walter Pidgeon, Lee Allen, Mae Questel, Gerald Mohr, Frank Faylen, Alena Johnston, Thordis Brandt, Arthur Tovey\n",
      "Duração: 149 min.\n",
      "\n",
      "\n",
      "**outro site**\n",
      "\n",
      "\n",
      "61\n",
      "Funny Girl – Uma Garota Genial (Funny Girl) – EUA, 1968\n",
      "Direção: William Wyler\n",
      "Roteiro: Isobel Lennart (baseado em Funny Girl, escrito por Isobel Lennart, Jule Stynne e Bob Merrill)\n",
      "Elenco: Barbra Streisand, Omar Sharif, Kay Medford, Anne Francis, Walter Pidgeon, Lee Allen, Mae Questel, Gerald Mohr, Frank Faylen, Alena Johnston, Thordis Brandt, Arthur Tovey\n",
      "Duração: 149 min.\n",
      "\n",
      "\n",
      "**outro site**\n",
      "\n",
      "\n"
     ]
    }
   ],
   "source": [
    "list_word = [\"intérpretes\", \"elenco\",\"diretor\",\"direção\"]\n",
    "search_words = (\"intérpretes:\", \"elenco:\",\"diretor:\",\"direção:\")\n",
    "# 61 e 91 funciona com split em '\\n'\n",
    "for i in [61]:#,11,21,31,41,51,61,71,81,91]:#range(1,101):\n",
    "    tree = etree.parse(root + str(i) + '.html', parser)\n",
    "    check = False\n",
    "    for item in tree.iter():\n",
    "        if item.text != None and (item.text.lower().startswith(search_words) or item.text.lower() in list_word) and not check:\n",
    "            print(i)#,(get_element_text(item), get_element_text(item.getparent()), get_element_text(item.getparent().getparent())))\n",
    "            result = get_all_information(item, 0)\n",
    "            if result[0] == \"Found!\":\n",
    "#                 print(i, get_all_information(item, 0))\n",
    "                print(get_element_text(result[1]))\n",
    "#                 for x in result[1]:\n",
    "#                     print(get_element_text(x).strip())\n",
    "            print(\"\\n\\n**outro site**\\n\\n\")\n",
    "#             check=True"
   ]
  },
  {
   "cell_type": "code",
   "execution_count": null,
   "metadata": {},
   "outputs": [],
   "source": []
  }
 ],
 "metadata": {
  "kernelspec": {
   "display_name": "Python 3",
   "language": "python",
   "name": "python3"
  },
  "language_info": {
   "codemirror_mode": {
    "name": "ipython",
    "version": 3
   },
   "file_extension": ".py",
   "mimetype": "text/x-python",
   "name": "python",
   "nbconvert_exporter": "python",
   "pygments_lexer": "ipython3",
   "version": "3.6.1"
  }
 },
 "nbformat": 4,
 "nbformat_minor": 2
}
