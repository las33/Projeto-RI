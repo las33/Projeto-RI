{
 "cells": [
  {
   "cell_type": "code",
   "execution_count": 32,
   "metadata": {},
   "outputs": [],
   "source": [
    "from lxml import etree"
   ]
  },
  {
   "cell_type": "code",
   "execution_count": 33,
   "metadata": {},
   "outputs": [],
   "source": [
    "parser = etree.HTMLParser()\n",
    "root = './pages/pag'"
   ]
  },
  {
   "cell_type": "code",
   "execution_count": 34,
   "metadata": {},
   "outputs": [],
   "source": [
    "from unicodedata import normalize\n",
    "\n",
    "def remover_acentos(txt):\n",
    "    return normalize('NFKD', txt).encode('ASCII', 'ignore').decode('ASCII')"
   ]
  },
  {
   "cell_type": "code",
   "execution_count": 35,
   "metadata": {},
   "outputs": [],
   "source": [
    "# run into the element recursively getting the text\n",
    "def get_element_text(elem):\n",
    "    if len(elem) == 0:\n",
    "        if elem != []:\n",
    "            if elem.tag == \"br\":\n",
    "                return \"\\n\"\n",
    "            elif elem.text == None:\n",
    "                return \"\"\n",
    "            else:\n",
    "                return elem.text\n",
    "        else:\n",
    "            return \"\"\n",
    "    else:\n",
    "        if elem[0].tag == 'br':\n",
    "            return \"\\n\" + (\"\" if elem[0].tail == None else elem[0].tail.strip()) + get_element_text(elem[1:])\n",
    "        if elem[0].tail != None and elem[0].tail.strip() != \"\":\n",
    "            return (elem.text if isinstance(elem, etree._Element) and elem.text != None else \"\") + (\"\" if elem[0].text == None else elem[0].text) + (\"\" if len(elem[0]) == 0 else get_element_text(elem[0][:])) + elem[0].tail + get_element_text(elem[1:])\n",
    "        else:\n",
    "            return (elem.text if isinstance(elem, etree._Element) and elem.text != None else \"\") +  (\"\" if elem[0].text == None else elem[0].text) + (\"\" if len(elem[0]) == 0 else get_element_text(elem[0][:])) + get_element_text(elem[1:])"
   ]
  },
  {
   "cell_type": "markdown",
   "metadata": {},
   "source": [
    "### El País"
   ]
  },
  {
   "cell_type": "code",
   "execution_count": 58,
   "metadata": {
    "scrolled": true
   },
   "outputs": [
    {
     "data": {
      "text/plain": [
       "[{'id': 1,\n",
       "  'nome': 'HOMEM-FORMIGA E A VESPA',\n",
       "  'direcao': 'Peyton Reed.',\n",
       "  'elenco': 'Paul Rudd, Evangeline Lilly, Michael Douglas, Michelle Pfeiffer.',\n",
       "  'genero': 'ação. EUA, 2018.',\n",
       "  'duracao': '118 minutos.'},\n",
       " {'id': 2,\n",
       "  'nome': 'NICO, 1988',\n",
       "  'direcao': 'Susanna Nicchiarelli.',\n",
       "  'elenco': 'Tryne Dyrholm, John Gordon Sinclair, Anamaria Marinca, Sandor Funtek.',\n",
       "  'genero': 'musical. Itália, 2017.',\n",
       "  'duracao': '93 minutos.'},\n",
       " {'id': 3,\n",
       "  'nome': 'HOTEL TRANSILVÂNIA 3:\\xa0 FÉRIAS MONSTRUOSAS',\n",
       "  'direcao': 'Genndy Tartakovsky.',\n",
       "  'genero': 'comédia. Estados Unidos, 2018.',\n",
       "  'duracao': '97 minutos.'},\n",
       " {'id': 4,\n",
       "  'nome': 'MAMMA MIA! LÁ VAMOS NÓS DE NOVO',\n",
       "  'direcao': 'Ol Parker.',\n",
       "  'elenco': 'Lily James, Amanda Seyfried, Christine Baranski, Pierce Brosnan.',\n",
       "  'genero': 'musical. Reino Unido, 2018.',\n",
       "  'duracao': '114 minutos.'},\n",
       " {'id': 5,\n",
       "  'nome': 'MISSÃO IMPOSSÍVEL − EFEITO FALLOUT',\n",
       "  'direcao': 'Christopher McQuarrie.',\n",
       "  'elenco': 'Tom Cruise, Sean Harris, Henry Cavill, Rebecca Ferguson.',\n",
       "  'genero': 'thriller.',\n",
       "  'duracao': '147 minutos.'},\n",
       " {'id': 6,\n",
       "  'nome': 'Escobar – A Traição',\n",
       "  'direcao': 'Fernando León de Aranoa.',\n",
       "  'elenco': 'Javier Bardem, Penélope Cruz, Peter Sarsgaard.',\n",
       "  'genero': '‘biopic’. Espanha, 2017.',\n",
       "  'duracao': '123 minutos.'},\n",
       " {'id': 7,\n",
       "  'nome': '‘Pantera Negra’',\n",
       "  'direcao': 'Ryan Coogler.',\n",
       "  'elenco': 'Chadwick Boseman, Michael B. Jordan, Lupita Nyong’o, Danai Gurira.',\n",
       "  'genero': 'ficção científica. Estados Unidos, 2018.',\n",
       "  'duracao': '134 minutos.'},\n",
       " {'id': 8,\n",
       "  'nome': 'TRAMA FANTASMA',\n",
       "  'direcao': 'Paul Thomas Anderson.',\n",
       "  'elenco': 'Daniel Day-Lewis, Lesley Manville, Vicky Krieps, Richard Graham.',\n",
       "  'genero': 'drama. EUA, 2017.',\n",
       "  'duracao': '130 minutos.'},\n",
       " {'id': 9,\n",
       "  'nome': 'TULLY',\n",
       "  'direcao': 'Jason Reitman.',\n",
       "  'elenco': 'Charlize Theron, Mackenzie Davis, Rum Livingston, Mark Duplass.',\n",
       "  'genero': 'drama. EUA, 2018.',\n",
       "  'duracao': '95 minutos.'},\n",
       " {'id': 10,\n",
       "  'nome': 'SUBMERSÃO',\n",
       "  'direcao': 'Wim Wenders.',\n",
       "  'elenco': 'James McAvoy, Alicia Vikander, Alexander Siddig, Celyn Jones.',\n",
       "  'genero': 'drama. Alemanha, 2017.',\n",
       "  'duracao': '111 minutos.'}]"
      ]
     },
     "execution_count": 58,
     "metadata": {},
     "output_type": "execute_result"
    }
   ],
   "source": [
    "xpath_movie_detail1='//*[@id=\"sumario_1|despiece\"]/div/div/p'\n",
    "xpath_movie_detail2='//*[@id=\"sumario_2|despiece\"]/div/div/p'\n",
    "xpath_movie_title='//*[@id=\"sumario_1|despiece\"]/div/header/h4'\n",
    "\n",
    "filmes =[]\n",
    "for i in range (1,11):\n",
    "    filme = {'id': i}\n",
    "    tree = etree.parse(root + str(i) + '.html', parser)\n",
    "    r=tree.xpath(xpath_movie_title)\n",
    "    if r != []:\n",
    "        filme['nome'] = get_element_text(r)\n",
    "    r=tree.xpath(xpath_movie_detail2)\n",
    "    if len(r) == 0:\n",
    "        r=tree.xpath(xpath_movie_detail1)\n",
    "\n",
    "    if len(r) > 0:\n",
    "        for x, item in enumerate(r):\n",
    "            texto = get_element_text(item)\n",
    "            if x == 0 and \"nome\" not in filme:\n",
    "                filme[\"nome\"] = texto\n",
    "                continue\n",
    "            \n",
    "            try:\n",
    "                indice = texto.index(\":\")\n",
    "            except ValueError:\n",
    "                indice = -1\n",
    "            \n",
    "            if(indice > -1):\n",
    "                categoria = texto[:indice].lower()\n",
    "                conteudo = texto[indice+1:].strip()\n",
    "                \n",
    "                if categoria == \"direção\":\n",
    "                    filme[\"direcao\"] = conteudo\n",
    "                elif categoria == \"gênero\":\n",
    "                    filme[\"genero\"] = conteudo\n",
    "                elif categoria == \"elenco\" or categoria == \"intérpretes\":\n",
    "                    filme[\"elenco\"] = conteudo\n",
    "                elif categoria == \"duração\":\n",
    "                    filme[\"duracao\"] = conteudo\n",
    "#                 elif \"outro\" in filme:\n",
    "#                     filme[\"outro\"] += texto +\";\"\n",
    "#                 else:\n",
    "#                     filme[\"outro\"] = texto +\";\"\n",
    "#             elif \"outro\" in filme:\n",
    "#                 filme[\"outro\"] += texto +\";\"\n",
    "#             else:\n",
    "#                 filme[\"outro\"] = texto +\";\"\n",
    "        \n",
    "        filmes.append(filme)\n",
    "filmes"
   ]
  },
  {
   "cell_type": "code",
   "execution_count": 59,
   "metadata": {},
   "outputs": [
    {
     "data": {
      "text/plain": [
       "True"
      ]
     },
     "execution_count": 59,
     "metadata": {},
     "output_type": "execute_result"
    }
   ],
   "source": [
    "elpais = [{'id': 1,  'nome': 'HOMEM-FORMIGA E A VESPA',  'direcao': 'Peyton Reed.',  'elenco': 'Paul Rudd, Evangeline Lilly, Michael Douglas, Michelle Pfeiffer.',  'genero': 'ação. EUA, 2018.',  'duracao': '118 minutos.'}, {'id': 2,  'nome': 'NICO, 1988',  'direcao': 'Susanna Nicchiarelli.',  'elenco': 'Tryne Dyrholm, John Gordon Sinclair, Anamaria Marinca, Sandor Funtek.',  'genero': 'musical. Itália, 2017.',  'duracao': '93 minutos.'}, {'id': 3,  'nome': 'HOTEL TRANSILVÂNIA 3:\\xa0 FÉRIAS MONSTRUOSAS',  'direcao': 'Genndy Tartakovsky.',  'genero': 'comédia. Estados Unidos, 2018.',  'duracao': '97 minutos.'}, {'id': 4,  'nome': 'MAMMA MIA! LÁ VAMOS NÓS DE NOVO',  'direcao': 'Ol Parker.',  'elenco': 'Lily James, Amanda Seyfried, Christine Baranski, Pierce Brosnan.',  'genero': 'musical. Reino Unido, 2018.',  'duracao': '114 minutos.'}, {'id': 5,  'nome': 'MISSÃO IMPOSSÍVEL − EFEITO FALLOUT',  'direcao': 'Christopher McQuarrie.',  'elenco': 'Tom Cruise, Sean Harris, Henry Cavill, Rebecca Ferguson.',  'genero': 'thriller.',  'duracao': '147 minutos.'}, {'id': 6,  'nome': 'Escobar – A Traição',  'direcao': 'Fernando León de Aranoa.',  'elenco': 'Javier Bardem, Penélope Cruz, Peter Sarsgaard.',  'genero': '‘biopic’. Espanha, 2017.',  'duracao': '123 minutos.'}, {'id': 7,  'nome': '‘Pantera Negra’',  'direcao': 'Ryan Coogler.',  'elenco': 'Chadwick Boseman, Michael B. Jordan, Lupita Nyong’o, Danai Gurira.',  'genero': 'ficção científica. Estados Unidos, 2018.',  'duracao': '134 minutos.'}, {'id': 8,  'nome': 'TRAMA FANTASMA',  'direcao': 'Paul Thomas Anderson.',  'elenco': 'Daniel Day-Lewis, Lesley Manville, Vicky Krieps, Richard Graham.',  'genero': 'drama. EUA, 2017.',  'duracao': '130 minutos.'}, {'id': 9,  'nome': 'TULLY',  'direcao': 'Jason Reitman.',  'elenco': 'Charlize Theron, Mackenzie Davis, Rum Livingston, Mark Duplass.',  'genero': 'drama. EUA, 2018.',  'duracao': '95 minutos.'}, {'id': 10,  'nome': 'SUBMERSÃO',  'direcao': 'Wim Wenders.',  'elenco': 'James McAvoy, Alicia Vikander, Alexander Siddig, Celyn Jones.',  'genero': 'drama. Alemanha, 2017.',  'duracao': '111 minutos.'}]\n",
    "filmes == elpais"
   ]
  },
  {
   "cell_type": "markdown",
   "metadata": {},
   "source": [
    "### Omelete"
   ]
  },
  {
   "cell_type": "code",
   "execution_count": 60,
   "metadata": {
    "scrolled": true
   },
   "outputs": [
    {
     "data": {
      "text/plain": [
       "[{'id': 11,\n",
       "  'nome': 'Hotel Artemis',\n",
       "  'ano': '2018',\n",
       "  'classificacao': '16 anos',\n",
       "  'duracao': '93 min',\n",
       "  'direcao': 'Drew Pearce',\n",
       "  'roteiro': 'Drew Pearce',\n",
       "  'elenco': 'Zachary Quinto, Jenny Slate, Jeff Goldblum, Sofia Boutella, Sterling K. Brown, Jodie Foster'},\n",
       " {'id': 12,\n",
       "  'nome': 'Nasce Uma Estrela',\n",
       "  'ano': '2018',\n",
       "  'classificacao': '-1 anos',\n",
       "  'direcao': 'Bradley Cooper',\n",
       "  'roteiro': 'Bradley Cooper, Will Fetters, Irene Mecchi, Christopher Wilkinson, Stephen J. Rivele',\n",
       "  'elenco': 'Bradley Cooper, Lady Gaga, Sam Elliott'},\n",
       " {'id': 13,\n",
       "  'nome': 'Red Joan',\n",
       "  'classificacao': '-1 anos',\n",
       "  'direcao': 'Trevor Nunn',\n",
       "  'elenco': 'Tom Hughes, Stephen Campbell Moore, Sophie Cookson, Judi Dench'},\n",
       " {'id': 14,\n",
       "  'nome': 'Destroyer',\n",
       "  'ano': '2018',\n",
       "  'classificacao': '-1 anos',\n",
       "  'direcao': 'Karyn Kusama',\n",
       "  'roteiro': 'Matt Manfredi, Phil Hay',\n",
       "  'elenco': 'Toby Kebbell, Tatiana Maslany, Nicole Kidman'},\n",
       " {'id': 15,\n",
       "  'nome': 'O Predador (2018)',\n",
       "  'ano': '2018',\n",
       "  'classificacao': '-1 anos',\n",
       "  'direcao': 'Shane Black',\n",
       "  'elenco': 'Olivia Munn, Thomas Jane, Boyd Holbrook, Sterling K. Brown, Keegan-Michael Key'},\n",
       " {'id': 16,\n",
       "  'nome': 'Mid90s',\n",
       "  'ano': '2018',\n",
       "  'classificacao': '-1 anos',\n",
       "  'duracao': '1h24 min',\n",
       "  'direcao': 'Jonah Hill',\n",
       "  'roteiro': 'Jonah Hill',\n",
       "  'elenco': 'Katherine Waterston, Lucas Hedges, Sunny Suljic'},\n",
       " {'id': 17,\n",
       "  'nome': 'A Primeira Noite de Crime',\n",
       "  'ano': '2018',\n",
       "  'classificacao': '-1 anos',\n",
       "  'direcao': 'Gerard McMurray',\n",
       "  'roteiro': 'James DeMonaco',\n",
       "  'elenco': \"John P. McGinty, Cloé Xhauflaire, Jessica Bell, Geoff Schuppert, Qurrat Ann Kadwani, Christian Robinson, David Breda, Lex Scott Davis, Y'lan Noel\"},\n",
       " {'id': 18,\n",
       "  'nome': 'O MistÃ©rio do RelÃ³gio na Parede',\n",
       "  'ano': '2018',\n",
       "  'classificacao': '10 anos',\n",
       "  'duracao': '105 min',\n",
       "  'direcao': 'Eli Roth',\n",
       "  'roteiro': 'Eric Kripke',\n",
       "  'elenco': 'Kyle MacLachlan, Owen Vaccaro, Cate Blanchett, Jack Black'},\n",
       " {'id': 19,\n",
       "  'nome': 'American Woman',\n",
       "  'ano': '2018',\n",
       "  'classificacao': '-1 anos',\n",
       "  'direcao': 'Jake Scott',\n",
       "  'roteiro': 'Brad Ingelsby',\n",
       "  'elenco': 'Macon Blair, Will Sasso, Amy Madigan, Sienna Miller, Aaron Paul, Christina Hendricks'},\n",
       " {'id': 20,\n",
       "  'nome': 'Buscando...',\n",
       "  'ano': '2018',\n",
       "  'classificacao': '-1 anos',\n",
       "  'direcao': 'Aneesh Chaganty',\n",
       "  'roteiro': 'Sev Ohanian, Aneesh Chaganty',\n",
       "  'elenco': 'Sara Sohn, John Cho'}]"
      ]
     },
     "execution_count": 60,
     "metadata": {},
     "output_type": "execute_result"
    }
   ],
   "source": [
    "xpath_movie_title = '/html/body/main/div[1]/section[1]/div[3]/div/div/article/div[3]/div[1]/div[1]/article/a/div[1]/div[2]/div[1]'\n",
    "xpath_movie_subtitle = '/html/body/main/div[1]/section[1]/div[3]/div/div/article/div[3]/div[1]/div[1]/article/a/div[1]/div[2]/div[2]'\n",
    "xpath_movie_details1 = '/html/body/main/div[1]/section[1]/div[3]/div/div/article/div[3]/div[1]/div[1]/article/a/div[2]/div/div[2]/div[1]/p'\n",
    "xpath_movie_details2 = '/html/body/main/div[1]/section[1]/div[3]/div/div/article/div[3]/div[1]/div[1]/article/a/div[2]/div/div[2]/div[2]/p'\n",
    "\n",
    "filmes=[]\n",
    "for i in range (11,21):\n",
    "    filme = {'id':i}\n",
    "    tree = etree.parse(root + str(i) + '.html', parser)\n",
    "    r=tree.xpath(xpath_movie_title)\n",
    "    filme['nome'] = get_element_text(r)\n",
    "    r=tree.xpath(xpath_movie_details1)+tree.xpath(xpath_movie_details2)\n",
    "    for item in r:\n",
    "        categoria = remover_acentos(item.text.replace(\"Ã§Ã£\",\"çã\").strip().lower()).replace(\":\",\"\")\n",
    "        filme[categoria] = item[0].text.strip()\n",
    "    filmes.append(filme)\n",
    "filmes"
   ]
  },
  {
   "cell_type": "code",
   "execution_count": 61,
   "metadata": {},
   "outputs": [
    {
     "data": {
      "text/plain": [
       "True"
      ]
     },
     "execution_count": 61,
     "metadata": {},
     "output_type": "execute_result"
    }
   ],
   "source": [
    "omelete = [{'id': 11,  'nome': 'Hotel Artemis',  'ano': '2018',  'classificacao': '16 anos',  'duracao': '93 min',  'direcao': 'Drew Pearce',  'roteiro': 'Drew Pearce',  'elenco': 'Zachary Quinto, Jenny Slate, Jeff Goldblum, Sofia Boutella, Sterling K. Brown, Jodie Foster'}, {'id': 12,  'nome': 'Nasce Uma Estrela',  'ano': '2018',  'classificacao': '-1 anos',  'direcao': 'Bradley Cooper',  'roteiro': 'Bradley Cooper, Will Fetters, Irene Mecchi, Christopher Wilkinson, Stephen J. Rivele',  'elenco': 'Bradley Cooper, Lady Gaga, Sam Elliott'}, {'id': 13,  'nome': 'Red Joan',  'classificacao': '-1 anos',  'direcao': 'Trevor Nunn',  'elenco': 'Tom Hughes, Stephen Campbell Moore, Sophie Cookson, Judi Dench'}, {'id': 14,  'nome': 'Destroyer',  'ano': '2018',  'classificacao': '-1 anos',  'direcao': 'Karyn Kusama',  'roteiro': 'Matt Manfredi, Phil Hay',  'elenco': 'Toby Kebbell, Tatiana Maslany, Nicole Kidman'}, {'id': 15,  'nome': 'O Predador (2018)',  'ano': '2018',  'classificacao': '-1 anos',  'direcao': 'Shane Black',  'elenco': 'Olivia Munn, Thomas Jane, Boyd Holbrook, Sterling K. Brown, Keegan-Michael Key'}, {'id': 16,  'nome': 'Mid90s',  'ano': '2018',  'classificacao': '-1 anos',  'duracao': '1h24 min',  'direcao': 'Jonah Hill',  'roteiro': 'Jonah Hill',  'elenco': 'Katherine Waterston, Lucas Hedges, Sunny Suljic'}, {'id': 17,  'nome': 'A Primeira Noite de Crime',  'ano': '2018',  'classificacao': '-1 anos',  'direcao': 'Gerard McMurray',  'roteiro': 'James DeMonaco',  'elenco': \"John P. McGinty, Cloé Xhauflaire, Jessica Bell, Geoff Schuppert, Qurrat Ann Kadwani, Christian Robinson, David Breda, Lex Scott Davis, Y'lan Noel\"}, {'id': 18,  'nome': 'O MistÃ©rio do RelÃ³gio na Parede',  'ano': '2018',  'classificacao': '10 anos',  'duracao': '105 min',  'direcao': 'Eli Roth',  'roteiro': 'Eric Kripke',  'elenco': 'Kyle MacLachlan, Owen Vaccaro, Cate Blanchett, Jack Black'}, {'id': 19,  'nome': 'American Woman',  'ano': '2018',  'classificacao': '-1 anos',  'direcao': 'Jake Scott',  'roteiro': 'Brad Ingelsby',  'elenco': 'Macon Blair, Will Sasso, Amy Madigan, Sienna Miller, Aaron Paul, Christina Hendricks'}, {'id': 20,  'nome': 'Buscando...',  'ano': '2018',  'classificacao': '-1 anos',  'direcao': 'Aneesh Chaganty',  'roteiro': 'Sev Ohanian, Aneesh Chaganty',  'elenco': 'Sara Sohn, John Cho'}]\n",
    "filmes == omelete"
   ]
  },
  {
   "cell_type": "markdown",
   "metadata": {},
   "source": [
    "### CineClick"
   ]
  },
  {
   "cell_type": "code",
   "execution_count": 80,
   "metadata": {
    "scrolled": true
   },
   "outputs": [
    {
     "data": {
      "text/plain": [
       "[{'id': 21,\n",
       "  'nome': 'O PREDADOR',\n",
       "  'ano': '2018',\n",
       "  'duracao': '101MIN.',\n",
       "  'genero': 'Ação',\n",
       "  'direcao': 'Shane Black',\n",
       "  'roteiro': 'Fred Dekker, Jim Thomas, John Thomas, Shane Black',\n",
       "  'producao': 'Blondel Aidoo, John Davis, Lawrence Gordon',\n",
       "  'fotografia': 'Larry Fong',\n",
       "  'trilha sonora': 'Henry Jackman',\n",
       "  'estudio': 'Canada Film Capital, Dark Castle Entertainment, Davis Entertainment, TSG Entertainment, Twentieth Century Fox Film Corporation',\n",
       "  'montador': 'Harry B. Miller III',\n",
       "  'distribuidora': 'Fox Film',\n",
       "  'elenco': 'Alfie Allen, Andrew Jenkins, Augusto Aguilera, Boyd Holbrook, Crystal Mudry, Edward James Olmos, Inka Malovic, Jacob Tremblay, Jake Busey, Keegan-Michael Key, Lochlyn Munro, Niall Matter, Olivia Munn, Patrick Sabongui, Paul Lazenby, RJ Fetherstonhaugh, Sterling K. Brown, Thomas Jane, Trevante Rhodes, Yvonne Strahovski'},\n",
       " {'id': 22,\n",
       "  'nome': 'A FREIRA',\n",
       "  'ano': '2018',\n",
       "  'duracao': '96MIN.',\n",
       "  'genero': 'Terror',\n",
       "  'direcao': 'Corin Hardy',\n",
       "  'roteiro': 'Gary Dauberman, James Wan',\n",
       "  'producao': 'James Wan, Michael Clear, Peter Safran',\n",
       "  'fotografia': 'Maxime Alexandre',\n",
       "  'trilha sonora': 'Abel Korzeniowski',\n",
       "  'estudio': 'Atomic Monster, New Line Cinema, Safran Company, The',\n",
       "  'montador': 'Michel Aller',\n",
       "  'distribuidora': 'Warner',\n",
       "  'elenco': 'Ani Sava, August Maturo, Boiangiu Alma, Bonnie Aarons, Charlotte Hope, Demián Bichir, Emma Appleton, Flynn Hayward, Ingrid Bisu, Jamie Muscato, Jared Morgan, Jonas Bloquet, Jonny Coyne, Lourdes Nadres, Mark Steger, Natalie Creek, Samson Marraccino, Sandra Rosko, Sandra Teles, Scarlett Hicks, Simon Rhee, Taissa Farmiga'},\n",
       " {'id': 23,\n",
       "  'nome': 'BUSCANDO...',\n",
       "  'ano': '2018',\n",
       "  'duracao': '101MIN.',\n",
       "  'genero': 'Suspense',\n",
       "  'direcao': 'Aneesh Chaganty',\n",
       "  'roteiro': 'Aneesh Chaganty, Sev Ohanian',\n",
       "  'producao': 'Adam Sidman, Congyu E, Natalie Qasabian, Sev Ohanian, Timur Bekmambetov',\n",
       "  'fotografia': 'Juan Sebastian Baron',\n",
       "  'trilha sonora': 'Torin Borrowdale',\n",
       "  'estudio': 'Bazelevs Entertainment, Bazelevs Production',\n",
       "  'montador': 'Nicholas D. Johnson, Will Merrick',\n",
       "  'distribuidora': 'Sony Pictures',\n",
       "  'elenco': 'Alex Jayne Go, Ashley Edner, Benjamin J. Cain Jr., Brad Abrell, Courtney Lauren Cummings, Debra Messing, Erin Henriques, Gabriel D. Angell, Gage Biltoft, John Cho, Joseph Lee, Kyle Austin Brown, Lasaundra Gibson, Melissa Disney, Michelle La, Morgan Peter Brown, Rasha Goel, Reed Buck, Roy Abramsohn, Sara Sohn, Steven Michael Eich, Thomas Barbusca'},\n",
       " {'id': 24,\n",
       "  'nome': 'KIN',\n",
       "  'ano': '2018',\n",
       "  'duracao': '102MIN.',\n",
       "  'genero': 'Ação',\n",
       "  'direcao': 'Jonathan Baker, Josh Baker',\n",
       "  'roteiro': 'Daniel Casey, Jonathan Baker, Josh Baker',\n",
       "  'producao': 'Dan Cohen, David Gross, Jeff Arkuss, Jesse Shapira, Shawn Levy',\n",
       "  'fotografia': 'Larkin Seiple',\n",
       "  'trilha sonora': 'Mogwai',\n",
       "  'estudio': '21 Laps Entertainment, Lionsgate, No Trace Camping',\n",
       "  'montador': 'Mark Day',\n",
       "  'distribuidora': 'Paris Filmes',\n",
       "  'elenco': 'Attila Sebesy, Bree Wasylenko, Carleigh Beverly, Carlos Pinder, Carrie Coon, Carson Manning, Dennis Quaid, Eli Ham, Gavin Fox, Ian Matthews, Ivan Sherry, Ivan Wanis-Ruiz, Jack Reynor, James Franco, Jonathan Cherry, Khalid Klein, Lily Gao, Myles Truitt, Romano Orzari, Shawn J. Hamilton, Stella Acquisto, Zoë Kravitz'},\n",
       " {'id': 25,\n",
       "  'nome': 'FERRUGEM',\n",
       "  'ano': '2018',\n",
       "  'duracao': '100MIN.',\n",
       "  'genero': 'Drama',\n",
       "  'direcao': 'Aly Muritiba',\n",
       "  'roteiro': 'Aly Muritiba, George Moura, Jessica Candal',\n",
       "  'producao': 'Ana Catarina, Antonio Júnior, Fernando Meirelles, Guel Arraes',\n",
       "  'fotografia': 'Rui Poças',\n",
       "  'trilha sonora': 'Fabian Oliver',\n",
       "  'estudio': 'Grafo Audiovisual',\n",
       "  'montador': 'João Menna Barreto',\n",
       "  'distribuidora': 'Olhar Distribuição',\n",
       "  'elenco': 'Clarissa Kiste, Dudah Azevedo, Enrique Diaz, Giovanni de Lorenzi, Igor Augustho, Pedro Inoue, Tifanny Dopke'},\n",
       " {'id': 26,\n",
       "  'nome': 'OS JOVENS TITÃS EM AÇÃO! NOS CINEMAS',\n",
       "  'ano': '2018',\n",
       "  'duracao': '93MIN.',\n",
       "  'genero': 'Animação',\n",
       "  'direcao': 'Aaron Horvath, Peter Rida Michail',\n",
       "  'roteiro': 'Aaron Horvath, Arnold Drake, Bob Brown, Bob Haney, Bruno Premiani, George Perez, Harry G. Peter, Marv Wolfman, Michael Jelenic',\n",
       "  'producao': 'Peggy Regan, Peter Rida Michail, Will Arnett',\n",
       "  'trilha sonora': 'Jared Faber',\n",
       "  'estudio': 'Cartoon Network, DC Entertainment, Warner Bros., Warner Bros. Animation',\n",
       "  'montador': 'Nick Kenway',\n",
       "  'distribuidora': 'Warner Bros',\n",
       "  'elenco': 'Dana Snyder, Greg Cipes, Halsey, Hynden Walch, James Corden, Jimmy Kimmel, Khary Payton, Kristen Bell, Lil Yachty, Nicolas Cage, Scott Menville, Tara Strong, Will Arnett'},\n",
       " {'id': 27,\n",
       "  'nome': 'SLENDER MAN - PESADELO SEM ROSTO',\n",
       "  'ano': '2018',\n",
       "  'duracao': '93MIN.',\n",
       "  'genero': 'Horror',\n",
       "  'direcao': 'Sylvain White',\n",
       "  'roteiro': 'David Birke, Victor Surge',\n",
       "  'producao': 'Andrea Ajemian, Bradley J. Fischer, James Vanderbilt, Robyn Meisinger, Sarah Snow, William Sherak',\n",
       "  'fotografia': 'Luca Del Puppo',\n",
       "  'trilha sonora': 'Brandon Campbell, Ramin Djawadi',\n",
       "  'estudio': 'Madhouse Entertainment, Mythology Entertainment',\n",
       "  'montador': 'Jake York',\n",
       "  'distribuidora': 'Sony',\n",
       "  'elenco': \"Adrian M. Mompoint, Alex Fitzalan, Angela Hope Smith, Annalise Basso, Damon D'Amico Jr, Javier Botet, Jaz Sinclair, Jeffrey Corazzini, Jessica Blank, Joey King, Julia Goldani Telles, Kallie Tabor, Kayla Caulfield, Kevin Chapman, Kris Sidberry, Michael Reilly Burke, Michael Tow, Miguel Nascimento, Oscar Wahlberg, Remington Keyes, Taylor Richardson\"},\n",
       " {'id': 28,\n",
       "  'nome': 'MEU EX É UM ESPIÃO',\n",
       "  'ano': '2018',\n",
       "  'duracao': '116MIN.',\n",
       "  'genero': 'Ação',\n",
       "  'direcao': 'Susanna Fogel',\n",
       "  'roteiro': 'David Iserson, Susanna Fogel',\n",
       "  'producao': 'Brian Grazer, Erica Huggins',\n",
       "  'fotografia': 'Barry Peterson',\n",
       "  'trilha sonora': 'Tyler Bates',\n",
       "  'estudio': 'Imagine Entertainment, Lionsgate',\n",
       "  'montador': 'Jonathan Schwartz',\n",
       "  'distribuidora': 'Paris Filmes',\n",
       "  'elenco': 'Attila C. Arpa, Barnabás Réti, Dustin Demri-Burns, Fred Melamed, Genevieve McCarthy, Gillian Anderson, Hasan Minhaj, Ivanna Sakhno, Justin Theroux, Justine Wachsberger, Kate McKinnon, Kev Adams, Lolly Adefope, Maria Z. Wilson, Mila Kunis, Nick Vorsselman, Nick Wittman, Ólafur Darri Ólafsson, Roderick Hill, Ruby Kammer, Sam Heughan'},\n",
       " {'id': 29,\n",
       "  'nome': 'CHRISTOPHER ROBIN - UM REENCONTRO INESQUECÍVEL',\n",
       "  'ano': '2018',\n",
       "  'duracao': '104MIN.',\n",
       "  'genero': 'Animação',\n",
       "  'direcao': 'Marc Forster',\n",
       "  'roteiro': 'A.A. Milne, Alex Ross Perry, Allison Schroeder, Tom McCarthy',\n",
       "  'producao': 'Brigham Taylor, Steve Gaub',\n",
       "  'fotografia': 'Matthias Koenigswieser',\n",
       "  'trilha sonora': 'Geoff Zanelli, Jon Brion',\n",
       "  'estudio': 'Walt Disney Pictures',\n",
       "  'montador': 'Matt Chesse',\n",
       "  'distribuidora': 'Disney',\n",
       "  'elenco': \"Adrian Scarborough, Bern Collaco, Brad Garrett, Bronte Carmichael, Chris O'Dowd, Evie Wray, Ewan McGregor, Gintare Beinoraviciute, Hayley Atwell, Jim Cummings, Katy Carmichael, Mark Gatiss, Nick Mohammed, Oliver Ford Davies, Paul Chahidi, Peter Capaldi, Roger Ashton-Griffiths, Shola Adewusi, Sophie Okonedo, Toby Jones, Tristan Sturrock\"},\n",
       " {'id': 30,\n",
       "  'nome': 'O PROTETOR 2',\n",
       "  'ano': '2018',\n",
       "  'duracao': '121MIN.',\n",
       "  'genero': 'Ação',\n",
       "  'direcao': 'Antoine Fuqua',\n",
       "  'roteiro': 'Michael Sloane, Richard Lindheim, Richard Wenk',\n",
       "  'producao': 'Alex Siskin, Denzel Washington, Jason Blumenthal, Mace Neufeld, Steve Tisch, Todd Black, Tony Eldridge',\n",
       "  'fotografia': 'Oliver Wood',\n",
       "  'trilha sonora': 'Harry Gregson-Williams',\n",
       "  'estudio': 'Columbia Pictures, Escape Artists, Fuqua Films, Lonetree Entertainment, Mace Neufeld Productions, Sony Pictures Entertainment (SPE)',\n",
       "  'montador': 'Conrad Buff IV',\n",
       "  'distribuidora': 'Sony Pictures',\n",
       "  'elenco': \"Abigail Marlowe, Alexa Giuffre, Alin Halajian, Andrei Arlovski, Annie Pisapia, Ashton Sanders, Bill Pullman, Caroline Day, Denzel Washington, Donald Cerrone, Enku Gubaie, Eric Ian, Heidi Garrow, Jay Hieron, Jonathan Scarfe, Karen Strong, Lexie Roth, Melissa Leo, Patty O'Neil, Pedro Pascal, Sakina Jaffrey, Tamara Hickey\"}]"
      ]
     },
     "execution_count": 80,
     "metadata": {},
     "output_type": "execute_result"
    }
   ],
   "source": [
    "titulo = '//*[@id=\"movie\"]/div[2]/div/div/div[1]/div[2]/div[2]/h1'\n",
    "ano_duracao='//*[@id=\"movie\"]/div[2]/div/div/div[1]/div[2]/div[2]/p'\n",
    "genero = '//*[@id=\"movie\"]/div[2]/div/div/div[1]/div[2]/div[2]/div[2]/p[1]'\n",
    "direcao='//*[@id=\"movie\"]/div/ul'\n",
    "details='//*[@id=\"movie\"]/div/p'\n",
    "elenco='//*[@id=\"movie\"]/div/div/p'\n",
    "\n",
    "filmes = []\n",
    "for i in range (21,31):\n",
    "    filme = {'id':i}\n",
    "    tree = etree.parse(root + str(i) + '.html', parser)\n",
    "    \n",
    "    r=tree.xpath(titulo)\n",
    "    filme[\"nome\"]=r[0].text\n",
    "    \n",
    "    r=tree.xpath(ano_duracao)\n",
    "    ad=get_element_text(r).strip().replace(\" \",\"\")\n",
    "    try:\n",
    "        filme[\"ano\"]=ad[:ad.index(\",\")]\n",
    "        filme[\"duracao\"]=ad[ad.index(\",\")+1:]\n",
    "    except ValueError:\n",
    "        pass\n",
    "    \n",
    "    r=tree.xpath(genero)\n",
    "    gen=get_element_text(r)\n",
    "    try:\n",
    "        filme[\"genero\"]=gen[gen.index(\":\")+1:].strip()\n",
    "    except ValueError:\n",
    "        filme[\"genero\"]=gen\n",
    "        \n",
    "    r=tree.xpath(direcao)\n",
    "    filme[\"direcao\"]=get_element_text(r[0]).strip()\n",
    "    \n",
    "    r=tree.xpath(details)\n",
    "    for item in r:\n",
    "        info = get_element_text(item)\n",
    "        try:\n",
    "            categoria=remover_acentos(info[:info.index(\":\")].lower().strip())\n",
    "            filme[categoria]=info[info.index(\":\")+1:].strip()\n",
    "        except ValueError:\n",
    "            pass    \n",
    "            \n",
    "    r=tree.xpath(elenco)\n",
    "    filme[\"elenco\"]=get_element_text(r[0]).strip()\n",
    "    filmes.append(filme)\n",
    "filmes"
   ]
  },
  {
   "cell_type": "code",
   "execution_count": 82,
   "metadata": {},
   "outputs": [
    {
     "data": {
      "text/plain": [
       "True"
      ]
     },
     "execution_count": 82,
     "metadata": {},
     "output_type": "execute_result"
    }
   ],
   "source": [
    "cineclick = [{'id': 21,  'nome': 'O PREDADOR',  'ano': '2018',  'duracao': '101MIN.',  'genero': 'Ação',  'direcao': 'Shane Black',  'roteiro': 'Fred Dekker, Jim Thomas, John Thomas, Shane Black',  'producao': 'Blondel Aidoo, John Davis, Lawrence Gordon',  'fotografia': 'Larry Fong',  'trilha sonora': 'Henry Jackman',  'estudio': 'Canada Film Capital, Dark Castle Entertainment, Davis Entertainment, TSG Entertainment, Twentieth Century Fox Film Corporation',  'montador': 'Harry B. Miller III',  'distribuidora': 'Fox Film',  'elenco': 'Alfie Allen, Andrew Jenkins, Augusto Aguilera, Boyd Holbrook, Crystal Mudry, Edward James Olmos, Inka Malovic, Jacob Tremblay, Jake Busey, Keegan-Michael Key, Lochlyn Munro, Niall Matter, Olivia Munn, Patrick Sabongui, Paul Lazenby, RJ Fetherstonhaugh, Sterling K. Brown, Thomas Jane, Trevante Rhodes, Yvonne Strahovski'}, {'id': 22,  'nome': 'A FREIRA',  'ano': '2018',  'duracao': '96MIN.',  'genero': 'Terror',  'direcao': 'Corin Hardy',  'roteiro': 'Gary Dauberman, James Wan',  'producao': 'James Wan, Michael Clear, Peter Safran',  'fotografia': 'Maxime Alexandre',  'trilha sonora': 'Abel Korzeniowski',  'estudio': 'Atomic Monster, New Line Cinema, Safran Company, The',  'montador': 'Michel Aller',  'distribuidora': 'Warner',  'elenco': 'Ani Sava, August Maturo, Boiangiu Alma, Bonnie Aarons, Charlotte Hope, Demián Bichir, Emma Appleton, Flynn Hayward, Ingrid Bisu, Jamie Muscato, Jared Morgan, Jonas Bloquet, Jonny Coyne, Lourdes Nadres, Mark Steger, Natalie Creek, Samson Marraccino, Sandra Rosko, Sandra Teles, Scarlett Hicks, Simon Rhee, Taissa Farmiga'}, {'id': 23,  'nome': 'BUSCANDO...',  'ano': '2018',  'duracao': '101MIN.',  'genero': 'Suspense',  'direcao': 'Aneesh Chaganty',  'roteiro': 'Aneesh Chaganty, Sev Ohanian',  'producao': 'Adam Sidman, Congyu E, Natalie Qasabian, Sev Ohanian, Timur Bekmambetov',  'fotografia': 'Juan Sebastian Baron',  'trilha sonora': 'Torin Borrowdale',  'estudio': 'Bazelevs Entertainment, Bazelevs Production',  'montador': 'Nicholas D. Johnson, Will Merrick',  'distribuidora': 'Sony Pictures',  'elenco': 'Alex Jayne Go, Ashley Edner, Benjamin J. Cain Jr., Brad Abrell, Courtney Lauren Cummings, Debra Messing, Erin Henriques, Gabriel D. Angell, Gage Biltoft, John Cho, Joseph Lee, Kyle Austin Brown, Lasaundra Gibson, Melissa Disney, Michelle La, Morgan Peter Brown, Rasha Goel, Reed Buck, Roy Abramsohn, Sara Sohn, Steven Michael Eich, Thomas Barbusca'}, {'id': 24,  'nome': 'KIN',  'ano': '2018',  'duracao': '102MIN.',  'genero': 'Ação',  'direcao': 'Jonathan Baker, Josh Baker',  'roteiro': 'Daniel Casey, Jonathan Baker, Josh Baker',  'producao': 'Dan Cohen, David Gross, Jeff Arkuss, Jesse Shapira, Shawn Levy',  'fotografia': 'Larkin Seiple',  'trilha sonora': 'Mogwai',  'estudio': '21 Laps Entertainment, Lionsgate, No Trace Camping',  'montador': 'Mark Day',  'distribuidora': 'Paris Filmes',  'elenco': 'Attila Sebesy, Bree Wasylenko, Carleigh Beverly, Carlos Pinder, Carrie Coon, Carson Manning, Dennis Quaid, Eli Ham, Gavin Fox, Ian Matthews, Ivan Sherry, Ivan Wanis-Ruiz, Jack Reynor, James Franco, Jonathan Cherry, Khalid Klein, Lily Gao, Myles Truitt, Romano Orzari, Shawn J. Hamilton, Stella Acquisto, Zoë Kravitz'}, {'id': 25,  'nome': 'FERRUGEM',  'ano': '2018',  'duracao': '100MIN.',  'genero': 'Drama',  'direcao': 'Aly Muritiba',  'roteiro': 'Aly Muritiba, George Moura, Jessica Candal',  'producao': 'Ana Catarina, Antonio Júnior, Fernando Meirelles, Guel Arraes',  'fotografia': 'Rui Poças',  'trilha sonora': 'Fabian Oliver',  'estudio': 'Grafo Audiovisual',  'montador': 'João Menna Barreto',  'distribuidora': 'Olhar Distribuição',  'elenco': 'Clarissa Kiste, Dudah Azevedo, Enrique Diaz, Giovanni de Lorenzi, Igor Augustho, Pedro Inoue, Tifanny Dopke'}, {'id': 26,  'nome': 'OS JOVENS TITÃS EM AÇÃO! NOS CINEMAS',  'ano': '2018',  'duracao': '93MIN.',  'genero': 'Animação',  'direcao': 'Aaron Horvath, Peter Rida Michail',  'roteiro': 'Aaron Horvath, Arnold Drake, Bob Brown, Bob Haney, Bruno Premiani, George Perez, Harry G. Peter, Marv Wolfman, Michael Jelenic',  'producao': 'Peggy Regan, Peter Rida Michail, Will Arnett',  'trilha sonora': 'Jared Faber',  'estudio': 'Cartoon Network, DC Entertainment, Warner Bros., Warner Bros. Animation',  'montador': 'Nick Kenway',  'distribuidora': 'Warner Bros',  'elenco': 'Dana Snyder, Greg Cipes, Halsey, Hynden Walch, James Corden, Jimmy Kimmel, Khary Payton, Kristen Bell, Lil Yachty, Nicolas Cage, Scott Menville, Tara Strong, Will Arnett'}, {'id': 27,  'nome': 'SLENDER MAN - PESADELO SEM ROSTO',  'ano': '2018',  'duracao': '93MIN.',  'genero': 'Horror',  'direcao': 'Sylvain White',  'roteiro': 'David Birke, Victor Surge',  'producao': 'Andrea Ajemian, Bradley J. Fischer, James Vanderbilt, Robyn Meisinger, Sarah Snow, William Sherak',  'fotografia': 'Luca Del Puppo',  'trilha sonora': 'Brandon Campbell, Ramin Djawadi',  'estudio': 'Madhouse Entertainment, Mythology Entertainment',  'montador': 'Jake York',  'distribuidora': 'Sony',  'elenco': \"Adrian M. Mompoint, Alex Fitzalan, Angela Hope Smith, Annalise Basso, Damon D'Amico Jr, Javier Botet, Jaz Sinclair, Jeffrey Corazzini, Jessica Blank, Joey King, Julia Goldani Telles, Kallie Tabor, Kayla Caulfield, Kevin Chapman, Kris Sidberry, Michael Reilly Burke, Michael Tow, Miguel Nascimento, Oscar Wahlberg, Remington Keyes, Taylor Richardson\"}, {'id': 28,  'nome': 'MEU EX É UM ESPIÃO',  'ano': '2018',  'duracao': '116MIN.',  'genero': 'Ação',  'direcao': 'Susanna Fogel',  'roteiro': 'David Iserson, Susanna Fogel',  'producao': 'Brian Grazer, Erica Huggins',  'fotografia': 'Barry Peterson',  'trilha sonora': 'Tyler Bates',  'estudio': 'Imagine Entertainment, Lionsgate',  'montador': 'Jonathan Schwartz',  'distribuidora': 'Paris Filmes',  'elenco': 'Attila C. Arpa, Barnabás Réti, Dustin Demri-Burns, Fred Melamed, Genevieve McCarthy, Gillian Anderson, Hasan Minhaj, Ivanna Sakhno, Justin Theroux, Justine Wachsberger, Kate McKinnon, Kev Adams, Lolly Adefope, Maria Z. Wilson, Mila Kunis, Nick Vorsselman, Nick Wittman, Ólafur Darri Ólafsson, Roderick Hill, Ruby Kammer, Sam Heughan'}, {'id': 29,  'nome': 'CHRISTOPHER ROBIN - UM REENCONTRO INESQUECÍVEL',  'ano': '2018',  'duracao': '104MIN.',  'genero': 'Animação',  'direcao': 'Marc Forster',  'roteiro': 'A.A. Milne, Alex Ross Perry, Allison Schroeder, Tom McCarthy',  'producao': 'Brigham Taylor, Steve Gaub',  'fotografia': 'Matthias Koenigswieser',  'trilha sonora': 'Geoff Zanelli, Jon Brion',  'estudio': 'Walt Disney Pictures',  'montador': 'Matt Chesse',  'distribuidora': 'Disney',  'elenco': \"Adrian Scarborough, Bern Collaco, Brad Garrett, Bronte Carmichael, Chris O'Dowd, Evie Wray, Ewan McGregor, Gintare Beinoraviciute, Hayley Atwell, Jim Cummings, Katy Carmichael, Mark Gatiss, Nick Mohammed, Oliver Ford Davies, Paul Chahidi, Peter Capaldi, Roger Ashton-Griffiths, Shola Adewusi, Sophie Okonedo, Toby Jones, Tristan Sturrock\"}, {'id': 30,  'nome': 'O PROTETOR 2',  'ano': '2018',  'duracao': '121MIN.',  'genero': 'Ação',  'direcao': 'Antoine Fuqua',  'roteiro': 'Michael Sloane, Richard Lindheim, Richard Wenk',  'producao': 'Alex Siskin, Denzel Washington, Jason Blumenthal, Mace Neufeld, Steve Tisch, Todd Black, Tony Eldridge',  'fotografia': 'Oliver Wood',  'trilha sonora': 'Harry Gregson-Williams',  'estudio': 'Columbia Pictures, Escape Artists, Fuqua Films, Lonetree Entertainment, Mace Neufeld Productions, Sony Pictures Entertainment (SPE)',  'montador': 'Conrad Buff IV',  'distribuidora': 'Sony Pictures',  'elenco': \"Abigail Marlowe, Alexa Giuffre, Alin Halajian, Andrei Arlovski, Annie Pisapia, Ashton Sanders, Bill Pullman, Caroline Day, Denzel Washington, Donald Cerrone, Enku Gubaie, Eric Ian, Heidi Garrow, Jay Hieron, Jonathan Scarfe, Karen Strong, Lexie Roth, Melissa Leo, Patty O'Neil, Pedro Pascal, Sakina Jaffrey, Tamara Hickey\"}]\n",
    "filmes == cineclick"
   ]
  },
  {
   "cell_type": "markdown",
   "metadata": {},
   "source": [
    "### Cinema em Cena"
   ]
  },
  {
   "cell_type": "code",
   "execution_count": 64,
   "metadata": {
    "scrolled": true
   },
   "outputs": [
    {
     "data": {
      "text/plain": [
       "[{'id': 31,\n",
       "  'nome': 'Ilha dos Cachorros',\n",
       "  'ano': '19/07/2018',\n",
       "  'distribuidora': 'Fox',\n",
       "  'direcao': 'Wes Anderson',\n",
       "  'elenco': 'Bryan Cranston, Koyu Rankin, Edward Norton, Scarlett Johansson, Bob Balaban, Greta Gerwig, Akira Takayama, Yoko Ono, Akira Ito, Fisher Stevens, Liev Schreiber, Courtney B. Vance, Roman Coppola, Anjelica Huston, Ken Watanabe, F. Murray Abraham, Tilda Swinton, Frances McDormand, Harvey Keitel, Jeff Goldblum, Bill Murray',\n",
       "  'roteiro': 'Wes Anderson',\n",
       "  'producao': 'Wes Anderson, Jeremy Dawson, Scott Rudin, Steven Rales',\n",
       "  'fotografia': 'Tristan Oliver',\n",
       "  'musica': 'Alexandre Desplat',\n",
       "  'montagem': 'Andrew Weisblum, Edward Bursch, Ralph Foster',\n",
       "  'design de producao': 'Adam Stockhausen, Paul Harrod'},\n",
       " {'id': 32,\n",
       "  'nome': 'Sicário: Dia do Soldado',\n",
       "  'ano': '28/06/2018',\n",
       "  'distribuidora': 'Sony',\n",
       "  'direcao': 'Stefano Sollima',\n",
       "  'elenco': 'Benicio Del Toro, Josh Brolin, Isabela Moner, Catherine Keener, Jeffrey Donovan, Matthew Modine, Shea Whigham, Manuel Garcia-Rulfo, Elijah Rodriguez, Bruno Bichir, Raoul Trujillo',\n",
       "  'roteiro': 'Taylor Sheridan',\n",
       "  'producao': 'Basil Iwanyk, Thad Luckinbill, Trent Luckinbill, Edward L. McDonnell, Molly Smith',\n",
       "  'fotografia': 'Dariusz Wolski',\n",
       "  'musica': 'Hildur Guðnadóttir',\n",
       "  'montagem': 'Matthew Newman',\n",
       "  'design de producao': 'Kevin Kavanaugh',\n",
       "  'figurino': 'Deborah Lynn Scott'},\n",
       " {'id': 33,\n",
       "  'nome': 'Os Incríveis 2',\n",
       "  'ano': '28/06/2018',\n",
       "  'distribuidora': 'Disney',\n",
       "  'direcao': 'Brad Bird',\n",
       "  'elenco': 'Holly Hunter, Craig T. Nelson, Sarah Vowell, Samuel L. Jackson, Huck Milner, Catherine Keener, Bob Odenkirk, Brad Bird, Sophia Bush, Phil LaMarr, John Ratzenberger, Barry Bostwick, Adam Rodriguez, Kimberly Adair Clark, Paul Eiding, Jonathan Banks, Isabella Rossellini',\n",
       "  'roteiro': 'Brad Bird',\n",
       "  'producao': 'John Walker, Nicole Paradis Grindle',\n",
       "  'fotografia': 'Mahyar Abousaeedi, Erik Smitt',\n",
       "  'musica': 'Michael Giacchino',\n",
       "  'montagem': 'Stephen Schaffer',\n",
       "  'design de producao': 'Ralph Eggleston',\n",
       "  'figurino': 'Deanna Marsigliese'},\n",
       " {'id': 34,\n",
       "  'nome': 'As Boas Maneiras',\n",
       "  'ano': '07/06/2018',\n",
       "  'distribuidora': 'Imovision',\n",
       "  'direcao': 'Juliana Rojas',\n",
       "  'elenco': 'Isabél Zuaa, Marjorie Estiano, Cida Moreira, Andréa Marquee, Felipe Kenji, Nina Medeiros, Neusa Velasco, Gilda Nomacce, Naloana Lima, Miguel Lobo',\n",
       "  'roteiro': 'Marco Dutra, Juliana Rojas, Marco Dutra',\n",
       "  'producao': 'Sara Silveira, Clément Duboin, Frédéric Corvez',\n",
       "  'fotografia': 'Rui Poças',\n",
       "  'musica': 'Guilherme Garbato, Gustavo Garbato',\n",
       "  'montagem': 'Caetano Gotardo',\n",
       "  'design de producao': 'Fernando Zuccolotto',\n",
       "  'figurino': 'Kiki Orona'},\n",
       " {'id': 35,\n",
       "  'nome': 'Hereditário',\n",
       "  'ano': '21/06/2018',\n",
       "  'distribuidora': 'Diamond Films',\n",
       "  'direcao': 'Ari Aster',\n",
       "  'elenco': 'Toni Collette, Gabriel Byrne, Alex Wolff, Milly Shapiro, Mallory Bechtel, David Stanley, Ann Dowd',\n",
       "  'roteiro': 'Ari Aster',\n",
       "  'producao': 'Lars Knudsen, Kevin Scott Frakes, Buddy Patrick',\n",
       "  'fotografia': 'Pawel Pogorzelski',\n",
       "  'musica': 'Colin Stetson',\n",
       "  'montagem': 'Jennifer Lame, Lucian Johnston',\n",
       "  'design de producao': 'Grace Yun',\n",
       "  'figurino': 'Olga Mill'},\n",
       " {'id': 36,\n",
       "  'nome': 'O Amante Duplo',\n",
       "  'ano': '21/06/2018',\n",
       "  'distribuidora': 'California Filmes',\n",
       "  'direcao': 'François Ozon',\n",
       "  'elenco': 'Marine Vacth, Jérémie Renier, Jacqueline Bisset, Myriam Boyer, Dominique Reymond',\n",
       "  'roteiro': 'François Ozon, Philippe Piazzo',\n",
       "  'producao': 'Eric Altmayer, Nicolas Altmayer',\n",
       "  'fotografia': 'Manuel Dacosse',\n",
       "  'musica': 'Philippe Rombi',\n",
       "  'montagem': 'Laure Gardette',\n",
       "  'design de producao': 'Sylvie Olivé',\n",
       "  'figurino': 'Pascaline Chavanne'},\n",
       " {'id': 37,\n",
       "  'nome': 'Jurassic World: Reino Ameaçado',\n",
       "  'ano': '21/06/2018',\n",
       "  'distribuidora': 'Universal',\n",
       "  'direcao': 'J.A. Bayona',\n",
       "  'elenco': 'Chris Pratt, Bryce Dallas Howard, Ted Levine, Toby Jones, James Cromwell, BD Wong, Rafe Spall, Daniella Pineda, Justice Smith, Isabella Sermon, Geraldine Chaplin, Jeff Goldblum',\n",
       "  'roteiro': 'Colin Trevorrow, Derek Connolly',\n",
       "  'producao': 'Patrick Crowley, Belén Atienza, Frank Marshall',\n",
       "  'fotografia': 'Oscar Faura',\n",
       "  'musica': 'Michael Giacchino',\n",
       "  'montagem': 'Bernat Vilaplana',\n",
       "  'design de producao': 'Andy Nicholson',\n",
       "  'figurino': 'Sammy Sheldon'},\n",
       " {'id': 38,\n",
       "  'nome': 'Dovlatov',\n",
       "  'ano': '14/06/2018',\n",
       "  'distribuidora': 'Imovision',\n",
       "  'direcao': 'Aleksey German',\n",
       "  'elenco': 'Milan Maric, Danila Kozlovsky, Helena Sujecka, Artur Beschastny, Elena Lyadova, Anton Shagin, Svetlana Khodchenkova, Piotr Gasowski, Eva Gerr, Hanna Sleszynska',\n",
       "  'roteiro': 'Aleksey German, Yulia Tupikina',\n",
       "  'producao': 'Dariusz Jablonski, Violetta Kaminska, Miroslav Mogorovich, Isabella Wojcik',\n",
       "  'fotografia': 'Lukasz Zal',\n",
       "  'montagem': 'Sergey Ivanov, Daria Gladysheva',\n",
       "  'design de producao': 'Elena Okopnaya',\n",
       "  'figurino': 'Elena Okopnaya'},\n",
       " {'id': 39,\n",
       "  'nome': 'In the Game',\n",
       "  'ano': 'Unknown',\n",
       "  'direcao': 'Maria Finitzo',\n",
       "  'roteiro': 'Maria Finitzo',\n",
       "  'producao': 'Maria Finitzo, Mary Morrissette',\n",
       "  'fotografia': 'Peter Gilbert',\n",
       "  'montagem': 'Katerina Simic'},\n",
       " {'id': 40,\n",
       "  'nome': 'Você Nunca Esteve Realmente Aqui',\n",
       "  'ano': '09/08/2018',\n",
       "  'distribuidora': 'Supo Mungan Films',\n",
       "  'direcao': 'Lynne Ramsay',\n",
       "  'elenco': 'Joaquin Phoenix, Ekaterina Samsonov, Alex Manette, John Doman, Dante Pereira-Olson, Judith Roberts, Alessandro Nivola',\n",
       "  'roteiro': 'Lynne Ramsay',\n",
       "  'producao': \"Pascal Caucheteux, Rebecca O'Brien, Lynne Ramsay, Rosa Attab, James Wilson\",\n",
       "  'fotografia': 'Thomas Townend',\n",
       "  'musica': 'Jonny Greenwood',\n",
       "  'montagem': 'Joe Bini',\n",
       "  'design de producao': 'Tim Grimes',\n",
       "  'figurino': 'Malgosia Turzanska'}]"
      ]
     },
     "execution_count": 64,
     "metadata": {},
     "output_type": "execute_result"
    }
   ],
   "source": [
    "xpath_details = '//*[@class=\"critica-elenco\"]'\n",
    "nome='/html/body/div/div/div/h1'\n",
    "ano='/html/body/div/div/div/table/tbody/tr/td/text()'\n",
    "\n",
    "# tree = etree.parse('./pages/pag31.html', parser)\n",
    "# tree.xpath(ano)\n",
    "filmes = []\n",
    "for i in range(31,41):\n",
    "    tree = etree.parse(root + str(i) + '.html', parser)\n",
    "    \n",
    "    categoria = \"\"\n",
    "    detalhes = {}\n",
    "    filme = {'id': i}\n",
    "    filme[\"nome\"] = tree.xpath(nome)[1].text.strip()\n",
    "    \n",
    "    info = tree.xpath(ano)\n",
    "    if len(info) == 3:\n",
    "        filme[\"ano\"] = info[0]\n",
    "        filme[\"distribuidora\"] = info[2]\n",
    "    elif len(info) == 2:\n",
    "        filme[\"ano\"] = info[0]\n",
    "    \n",
    "    for x in tree.xpath(xpath_details)[0]:\n",
    "    #     if i.tag == \"div\" or i.tag == \"br\":\n",
    "    #         flag = False\n",
    "        if x.tag == \"h3\":\n",
    "            categoria = remover_acentos(x.text.lower())\n",
    "            detalhes[categoria] = []\n",
    "    #         flag = True\n",
    "        elif x.tag == \"a\":\n",
    "            detalhes[categoria].append(x.text)\n",
    "    for i in detalhes:\n",
    "        filme[i] = ', '.join(detalhes[i])    \n",
    "    filmes.append(filme)\n",
    "    \n",
    "filmes"
   ]
  },
  {
   "cell_type": "code",
   "execution_count": 65,
   "metadata": {},
   "outputs": [
    {
     "data": {
      "text/plain": [
       "True"
      ]
     },
     "execution_count": 65,
     "metadata": {},
     "output_type": "execute_result"
    }
   ],
   "source": [
    "cinemaemcena = [{'id': 31,  'nome': 'Ilha dos Cachorros',  'ano': '19/07/2018',  'distribuidora': 'Fox',  'direcao': 'Wes Anderson',  'elenco': 'Bryan Cranston, Koyu Rankin, Edward Norton, Scarlett Johansson, Bob Balaban, Greta Gerwig, Akira Takayama, Yoko Ono, Akira Ito, Fisher Stevens, Liev Schreiber, Courtney B. Vance, Roman Coppola, Anjelica Huston, Ken Watanabe, F. Murray Abraham, Tilda Swinton, Frances McDormand, Harvey Keitel, Jeff Goldblum, Bill Murray',  'roteiro': 'Wes Anderson',  'producao': 'Wes Anderson, Jeremy Dawson, Scott Rudin, Steven Rales',  'fotografia': 'Tristan Oliver',  'musica': 'Alexandre Desplat',  'montagem': 'Andrew Weisblum, Edward Bursch, Ralph Foster',  'design de producao': 'Adam Stockhausen, Paul Harrod'}, {'id': 32,  'nome': 'Sicário: Dia do Soldado',  'ano': '28/06/2018',  'distribuidora': 'Sony',  'direcao': 'Stefano Sollima',  'elenco': 'Benicio Del Toro, Josh Brolin, Isabela Moner, Catherine Keener, Jeffrey Donovan, Matthew Modine, Shea Whigham, Manuel Garcia-Rulfo, Elijah Rodriguez, Bruno Bichir, Raoul Trujillo',  'roteiro': 'Taylor Sheridan',  'producao': 'Basil Iwanyk, Thad Luckinbill, Trent Luckinbill, Edward L. McDonnell, Molly Smith',  'fotografia': 'Dariusz Wolski',  'musica': 'Hildur Guðnadóttir',  'montagem': 'Matthew Newman',  'design de producao': 'Kevin Kavanaugh',  'figurino': 'Deborah Lynn Scott'}, {'id': 33,  'nome': 'Os Incríveis 2',  'ano': '28/06/2018',  'distribuidora': 'Disney',  'direcao': 'Brad Bird',  'elenco': 'Holly Hunter, Craig T. Nelson, Sarah Vowell, Samuel L. Jackson, Huck Milner, Catherine Keener, Bob Odenkirk, Brad Bird, Sophia Bush, Phil LaMarr, John Ratzenberger, Barry Bostwick, Adam Rodriguez, Kimberly Adair Clark, Paul Eiding, Jonathan Banks, Isabella Rossellini',  'roteiro': 'Brad Bird',  'producao': 'John Walker, Nicole Paradis Grindle',  'fotografia': 'Mahyar Abousaeedi, Erik Smitt',  'musica': 'Michael Giacchino',  'montagem': 'Stephen Schaffer',  'design de producao': 'Ralph Eggleston',  'figurino': 'Deanna Marsigliese'}, {'id': 34,  'nome': 'As Boas Maneiras',  'ano': '07/06/2018',  'distribuidora': 'Imovision',  'direcao': 'Juliana Rojas',  'elenco': 'Isabél Zuaa, Marjorie Estiano, Cida Moreira, Andréa Marquee, Felipe Kenji, Nina Medeiros, Neusa Velasco, Gilda Nomacce, Naloana Lima, Miguel Lobo',  'roteiro': 'Marco Dutra, Juliana Rojas, Marco Dutra',  'producao': 'Sara Silveira, Clément Duboin, Frédéric Corvez',  'fotografia': 'Rui Poças',  'musica': 'Guilherme Garbato, Gustavo Garbato',  'montagem': 'Caetano Gotardo',  'design de producao': 'Fernando Zuccolotto',  'figurino': 'Kiki Orona'}, {'id': 35,  'nome': 'Hereditário',  'ano': '21/06/2018',  'distribuidora': 'Diamond Films',  'direcao': 'Ari Aster',  'elenco': 'Toni Collette, Gabriel Byrne, Alex Wolff, Milly Shapiro, Mallory Bechtel, David Stanley, Ann Dowd',  'roteiro': 'Ari Aster',  'producao': 'Lars Knudsen, Kevin Scott Frakes, Buddy Patrick',  'fotografia': 'Pawel Pogorzelski',  'musica': 'Colin Stetson',  'montagem': 'Jennifer Lame, Lucian Johnston',  'design de producao': 'Grace Yun',  'figurino': 'Olga Mill'}, {'id': 36,  'nome': 'O Amante Duplo',  'ano': '21/06/2018',  'distribuidora': 'California Filmes',  'direcao': 'François Ozon',  'elenco': 'Marine Vacth, Jérémie Renier, Jacqueline Bisset, Myriam Boyer, Dominique Reymond',  'roteiro': 'François Ozon, Philippe Piazzo',  'producao': 'Eric Altmayer, Nicolas Altmayer',  'fotografia': 'Manuel Dacosse',  'musica': 'Philippe Rombi',  'montagem': 'Laure Gardette',  'design de producao': 'Sylvie Olivé',  'figurino': 'Pascaline Chavanne'}, {'id': 37,  'nome': 'Jurassic World: Reino Ameaçado',  'ano': '21/06/2018',  'distribuidora': 'Universal',  'direcao': 'J.A. Bayona',  'elenco': 'Chris Pratt, Bryce Dallas Howard, Ted Levine, Toby Jones, James Cromwell, BD Wong, Rafe Spall, Daniella Pineda, Justice Smith, Isabella Sermon, Geraldine Chaplin, Jeff Goldblum',  'roteiro': 'Colin Trevorrow, Derek Connolly',  'producao': 'Patrick Crowley, Belén Atienza, Frank Marshall',  'fotografia': 'Oscar Faura',  'musica': 'Michael Giacchino',  'montagem': 'Bernat Vilaplana',  'design de producao': 'Andy Nicholson',  'figurino': 'Sammy Sheldon'}, {'id': 38,  'nome': 'Dovlatov',  'ano': '14/06/2018',  'distribuidora': 'Imovision',  'direcao': 'Aleksey German',  'elenco': 'Milan Maric, Danila Kozlovsky, Helena Sujecka, Artur Beschastny, Elena Lyadova, Anton Shagin, Svetlana Khodchenkova, Piotr Gasowski, Eva Gerr, Hanna Sleszynska',  'roteiro': 'Aleksey German, Yulia Tupikina',  'producao': 'Dariusz Jablonski, Violetta Kaminska, Miroslav Mogorovich, Isabella Wojcik',  'fotografia': 'Lukasz Zal',  'montagem': 'Sergey Ivanov, Daria Gladysheva',  'design de producao': 'Elena Okopnaya',  'figurino': 'Elena Okopnaya'}, {'id': 39,  'nome': 'In the Game',  'ano': 'Unknown',  'direcao': 'Maria Finitzo',  'roteiro': 'Maria Finitzo',  'producao': 'Maria Finitzo, Mary Morrissette',  'fotografia': 'Peter Gilbert',  'montagem': 'Katerina Simic'}, {'id': 40,  'nome': 'Você Nunca Esteve Realmente Aqui',  'ano': '09/08/2018',  'distribuidora': 'Supo Mungan Films',  'direcao': 'Lynne Ramsay',  'elenco': 'Joaquin Phoenix, Ekaterina Samsonov, Alex Manette, John Doman, Dante Pereira-Olson, Judith Roberts, Alessandro Nivola',  'roteiro': 'Lynne Ramsay',  'producao': \"Pascal Caucheteux, Rebecca O'Brien, Lynne Ramsay, Rosa Attab, James Wilson\",  'fotografia': 'Thomas Townend',  'musica': 'Jonny Greenwood',  'montagem': 'Joe Bini',  'design de producao': 'Tim Grimes',  'figurino': 'Malgosia Turzanska'}]\n",
    "filmes == cinemaemcena"
   ]
  },
  {
   "cell_type": "markdown",
   "metadata": {},
   "source": [
    "### Jornal da Paraíba"
   ]
  },
  {
   "cell_type": "code",
   "execution_count": 66,
   "metadata": {
    "scrolled": true
   },
   "outputs": [
    {
     "data": {
      "text/plain": [
       "[{'id': 41,\n",
       "  'nome': 'O Mistério do Relógio na Parede',\n",
       "  'genero': 'Fantasia, Mistério, Terror',\n",
       "  'censura': '10 - Não recomendado para menores de dez anos',\n",
       "  'duracao': '104 min',\n",
       "  'diretor': 'Eli Roth',\n",
       "  'elenco': 'Cate Blanchett, Colleen Camp, Jack Black, Kyle MacLachlan, Renée Elise Goldsberry'},\n",
       " {'id': 42,\n",
       "  'nome': 'Buscando…',\n",
       "  'genero': 'Drama, Mistério, Thriller',\n",
       "  'censura': '14 - Não recomendado para menores de catorze anos',\n",
       "  'duracao': '102 min',\n",
       "  'diretor': 'Aneesh Chaganty',\n",
       "  'elenco': 'Brad Abrell, Debra Messing, Gabriel D. Angell, John Cho, Joseph Lee, Michelle La, Roy Abramsohn, Sara Sohn'},\n",
       " {'id': 43,\n",
       "  'nome': 'Benzinho',\n",
       "  'genero': 'Drama',\n",
       "  'censura': '12 - Não recomendado para menores de doze anos',\n",
       "  'duracao': '97 min',\n",
       "  'diretor': 'Gustavo Pizzi',\n",
       "  'elenco': 'Adriana Esteves, Arthur Teles Pizzi, César Troncoso, Francisco Teles Pizzi, Karine Teles, Konstantinos Sarris, Luan Teles, Mateus Solano, Otávio Müller, Vicente Demori'},\n",
       " {'id': 44,\n",
       "  'nome': '22 Milhas',\n",
       "  'genero': 'Ação',\n",
       "  'censura': '14 - Não recomendado para menores de catorze anos',\n",
       "  'duracao': '94 min',\n",
       "  'diretor': 'Peter Berg',\n",
       "  'elenco': 'Iko Uwais, John Malkovich, Lauren Cohan, Mark Wahlberg, Ronda Rousey, Terry Kinney'},\n",
       " {'id': 45,\n",
       "  'nome': 'Os Jovens Titãs em Ação! Nos Cinemas',\n",
       "  'genero': 'Ação, Animação, Comédia',\n",
       "  'diretor': 'Aaron Horvath, Peter Rida Michail',\n",
       "  'elenco': 'Greg Cipes, Hynden Walch, Khary Payton, Kristen Bell, Nicolas Cage, Scott Menville, Tara Strong, Will Arnett'},\n",
       " {'id': 46,\n",
       "  'nome': 'O Candidato Honesto 2',\n",
       "  'genero': 'Comédia',\n",
       "  'censura': '14 - Não recomendado para menores de catorze anos',\n",
       "  'duracao': '108 min',\n",
       "  'diretor': 'Roberto Santucci',\n",
       "  'elenco': 'Flávia Garrafa, Leandro Hassum, Rosane Mulholland'},\n",
       " {'id': 47,\n",
       "  'nome': 'O Predador – A Caçada Evoluiu',\n",
       "  'genero': 'Ação, Aventura, Terror',\n",
       "  'censura': '18 - Não recomendado para menores de dezoito anos',\n",
       "  'duracao': '107 min',\n",
       "  'diretor': 'Shane Black',\n",
       "  'elenco': 'Boyd Holbrook, Jacob Tremblay, Keegan-Michael Key, Olivia Munn, Sterling K. Brown, Trevante Rhodes'},\n",
       " {'id': 48,\n",
       "  'nome': 'Crô em Família',\n",
       "  'genero': 'Comédia',\n",
       "  'censura': '12 - Não recomendado para menores de doze anos',\n",
       "  'duracao': '87 min',\n",
       "  'diretor': 'Cininha de Paula',\n",
       "  'elenco': 'Arlete Salles, Fabiana Karla, Marcelo Serrado, Marcos Caruso, Marcus Majella, Mateus Solano, Tonico Pereira'},\n",
       " {'id': 49,\n",
       "  'nome': 'Alfa',\n",
       "  'genero': 'Ação, Aventura, Drama',\n",
       "  'censura': '10 - Não recomendado para menores de dez anos',\n",
       "  'duracao': '97 min',\n",
       "  'diretor': 'Albert Hughes',\n",
       "  'elenco': 'Jens Hultén, Jóhannes Haukur Jóhannesson, Kodi Smit-McPhee, Leonor Varela, Mercedes de la Zerda, Natassia Malthe'},\n",
       " {'id': 50,\n",
       "  'nome': 'Ilha dos Cachorros',\n",
       "  'genero': 'Animação, Aventura, Comédia',\n",
       "  'censura': '12 - Não recomendado para menores de doze anos',\n",
       "  'duracao': '101 min',\n",
       "  'diretor': 'Wes Anderson',\n",
       "  'elenco': 'Bill Murray, Bryan Cranston, Edward Norton, Frances McDormand, Greta Gerwig, Jeff Goldblum, Scarlett Johansson, Tilda Swinton'}]"
      ]
     },
     "execution_count": 66,
     "metadata": {},
     "output_type": "execute_result"
    }
   ],
   "source": [
    "xpath_details = '//*[@id=\"noticias\"]/div[1]/article/div[3]/ul/li'\n",
    "xpath_title = '//*[@id=\"noticias\"]/div[1]/article/header/h3'\n",
    "\n",
    "filmes = []\n",
    "for i in range(41,51):\n",
    "    filme = {'id': i}\n",
    "    tree = etree.parse(root + str(i) + '.html', parser)\n",
    "    name = tree.xpath(xpath_title)\n",
    "    elems = tree.xpath(xpath_details)\n",
    "    \n",
    "    filme[\"nome\"]=get_element_text(name[0])\n",
    "    for item in elems:\n",
    "        i = get_element_text(item)\n",
    "        try:\n",
    "            categoria = remover_acentos(i[:i.index(\":\")].lower())\n",
    "            filme[categoria] = i[i.index(\":\")+1:].strip()\n",
    "        except ValueError:\n",
    "            pass\n",
    "    filmes.append(filme)\n",
    "filmes"
   ]
  },
  {
   "cell_type": "code",
   "execution_count": 67,
   "metadata": {},
   "outputs": [
    {
     "data": {
      "text/plain": [
       "True"
      ]
     },
     "execution_count": 67,
     "metadata": {},
     "output_type": "execute_result"
    }
   ],
   "source": [
    "jornal = [{'id': 41,  'nome': 'O Mistério do Relógio na Parede',  'genero': 'Fantasia, Mistério, Terror',  'censura': '10 - Não recomendado para menores de dez anos',  'duracao': '104 min',  'diretor': 'Eli Roth',  'elenco': 'Cate Blanchett, Colleen Camp, Jack Black, Kyle MacLachlan, Renée Elise Goldsberry'}, {'id': 42,  'nome': 'Buscando…',  'genero': 'Drama, Mistério, Thriller',  'censura': '14 - Não recomendado para menores de catorze anos',  'duracao': '102 min',  'diretor': 'Aneesh Chaganty',  'elenco': 'Brad Abrell, Debra Messing, Gabriel D. Angell, John Cho, Joseph Lee, Michelle La, Roy Abramsohn, Sara Sohn'}, {'id': 43,  'nome': 'Benzinho',  'genero': 'Drama',  'censura': '12 - Não recomendado para menores de doze anos',  'duracao': '97 min',  'diretor': 'Gustavo Pizzi',  'elenco': 'Adriana Esteves, Arthur Teles Pizzi, César Troncoso, Francisco Teles Pizzi, Karine Teles, Konstantinos Sarris, Luan Teles, Mateus Solano, Otávio Müller, Vicente Demori'}, {'id': 44,  'nome': '22 Milhas',  'genero': 'Ação',  'censura': '14 - Não recomendado para menores de catorze anos',  'duracao': '94 min',  'diretor': 'Peter Berg',  'elenco': 'Iko Uwais, John Malkovich, Lauren Cohan, Mark Wahlberg, Ronda Rousey, Terry Kinney'}, {'id': 45,  'nome': 'Os Jovens Titãs em Ação! Nos Cinemas',  'genero': 'Ação, Animação, Comédia',  'diretor': 'Aaron Horvath, Peter Rida Michail',  'elenco': 'Greg Cipes, Hynden Walch, Khary Payton, Kristen Bell, Nicolas Cage, Scott Menville, Tara Strong, Will Arnett'}, {'id': 46,  'nome': 'O Candidato Honesto 2',  'genero': 'Comédia',  'censura': '14 - Não recomendado para menores de catorze anos',  'duracao': '108 min',  'diretor': 'Roberto Santucci',  'elenco': 'Flávia Garrafa, Leandro Hassum, Rosane Mulholland'}, {'id': 47,  'nome': 'O Predador – A Caçada Evoluiu',  'genero': 'Ação, Aventura, Terror',  'censura': '18 - Não recomendado para menores de dezoito anos',  'duracao': '107 min',  'diretor': 'Shane Black',  'elenco': 'Boyd Holbrook, Jacob Tremblay, Keegan-Michael Key, Olivia Munn, Sterling K. Brown, Trevante Rhodes'}, {'id': 48,  'nome': 'Crô em Família',  'genero': 'Comédia',  'censura': '12 - Não recomendado para menores de doze anos',  'duracao': '87 min',  'diretor': 'Cininha de Paula',  'elenco': 'Arlete Salles, Fabiana Karla, Marcelo Serrado, Marcos Caruso, Marcus Majella, Mateus Solano, Tonico Pereira'}, {'id': 49,  'nome': 'Alfa',  'genero': 'Ação, Aventura, Drama',  'censura': '10 - Não recomendado para menores de dez anos',  'duracao': '97 min',  'diretor': 'Albert Hughes',  'elenco': 'Jens Hultén, Jóhannes Haukur Jóhannesson, Kodi Smit-McPhee, Leonor Varela, Mercedes de la Zerda, Natassia Malthe'}, {'id': 50,  'nome': 'Ilha dos Cachorros',  'genero': 'Animação, Aventura, Comédia',  'censura': '12 - Não recomendado para menores de doze anos',  'duracao': '101 min',  'diretor': 'Wes Anderson',  'elenco': 'Bill Murray, Bryan Cranston, Edward Norton, Frances McDormand, Greta Gerwig, Jeff Goldblum, Scarlett Johansson, Tilda Swinton'}]\n",
    "filmes == jornal"
   ]
  },
  {
   "cell_type": "markdown",
   "metadata": {},
   "source": [
    "### Cinema com Rapadura"
   ]
  },
  {
   "cell_type": "code",
   "execution_count": 68,
   "metadata": {
    "scrolled": true
   },
   "outputs": [
    {
     "data": {
      "text/plain": [
       "[{'id': 51,\n",
       "  'nome': 'O Predador',\n",
       "  'ano': '2018',\n",
       "  'diretor': 'Shane Black',\n",
       "  'roteiro': 'Fred Dekker, Shane Black',\n",
       "  'elenco': 'Boyd Holbrook, Trevante Rhodes, Jacob Tremblay, Keegan-Michael Key, Olivia Munn, Thomas Jane, Alfie Allen, Sterling K. Brown, Augusto Aguilera, Jake Busey, Yvonne Strahovski, Edward James Olmos, Niall Matter, Dean Redman, Steve Wilder, Nikolas Dukic, Andrew Jenkins, Crystal Mudry, Paul Lazenby, Lochlyn Munro'},\n",
       " {'id': 52,\n",
       "  'nome': 'Benzinho',\n",
       "  'ano': '2018',\n",
       "  'diretor': 'Gustavo Pizzi',\n",
       "  'roteiro': 'Gustavo Pizzi, Karine Teles',\n",
       "  'elenco': 'Karine Teles, Otávio Müller, Adriana Esteves, Konstantinos Sarris, César Troncoso, Mateus Solano, Camilo Pellegrini, Ariclenes Barroso, Pablo Riera, Lucas Gouvêa, Ingrid Guimarães'},\n",
       " {'id': 53,\n",
       "  'nome': 'A Barraca do Beijo',\n",
       "  'ano': '2018',\n",
       "  'diretor': 'Vince Marcello',\n",
       "  'roteiro': 'Vince Marcello',\n",
       "  'elenco': 'Joey King, Joel Courtney, Jacob Elordi, Molly Ringwald, Carson White, Frances Sholto-Douglas, Nathan Lynn, Meganne Young, Byron Langley, D. David Morin, Dan Elijah Rudin, Robbie Tucker, Jessica Sutton, Michelle Allen, Joshua Daniel Eady, Judd Krok, Chase Dallas, Celina Caroto, Ben Lillie, Megan du Plessis'},\n",
       " {'id': 54,\n",
       "  'nome': 'Meu Ex é um Espião',\n",
       "  'ano': '2018',\n",
       "  'diretor': 'Susanna Fogel',\n",
       "  'roteiro': 'Susanna Fogel, David Iserson',\n",
       "  'elenco': 'Mila Kunis, Kate McKinnon, Justin Theroux, Gillian Anderson, Sam Heughan, Hasan Minhaj, Ivanna Sakhno, Fred Melamed, Jane Curtin, Paul Reiser, James Fleet, Carolyn Pickles, Kev Adams, Lolly Adefope, Dustin Demri-Burns, Justine Wachsberger, Ólafur Darri Ólafsson, Attila Árpa, Ruby Kammer, Genevieve McCarthy'},\n",
       " {'id': 55,\n",
       "  'nome': 'A Freira',\n",
       "  'ano': '2018',\n",
       "  'diretor': 'Corin Hardy',\n",
       "  'roteiro': 'Gary Dauberman',\n",
       "  'elenco': 'Bonnie Aarons, Demián Bichir, Taissa Farmiga, Charlotte Hope, Ingrid Bisu, Manuela Ciucur, Jonas Bloquet, Jonny Coyne, Jared Morgan, Sandra Teles, Boiangiu Alma, August Maturo'},\n",
       " {'id': 56,\n",
       "  'nome': 'Mamma Mia! Lá Vamos Nós de Novo',\n",
       "  'ano': '2018',\n",
       "  'diretor': 'Ol Parker',\n",
       "  'roteiro': 'Ol Parker, Richard Curtis, Catherine Johnson',\n",
       "  'elenco': 'Amanda Seyfried, Lily James, Dominic Cooper, Christine Baranski, Julie Walters, Pierce Brosnan, Colin Firth, Stellan Skarsgård, Andy García, Cher, Meryl Streep, Jessica Keenan Wynn, Alexa Davies, Jeremy Irvine, Hugh Skinner, Josh Dylan, Omid Djalili, Celia Imrie, Maria Vacratsis, Panos Mouzourakis'},\n",
       " {'id': 57,\n",
       "  'nome': 'Onde Está Você, João Gilberto?',\n",
       "  'ano': '2018',\n",
       "  'diretor': 'Georges Gachot',\n",
       "  'roteiro': '',\n",
       "  'elenco': 'João Gilberto'},\n",
       " {'id': 58,\n",
       "  'nome': 'Slender Man: Pesadelo Sem Rosto',\n",
       "  'ano': '2018',\n",
       "  'diretor': 'Sylvain White',\n",
       "  'roteiro': 'David Birke',\n",
       "  'elenco': 'Joey King, Javier Botet, Julia Goldani Telles, Jaz Sinclair, Kevin Chapman, Annalise Basso, Talitha Bateman, Alex Fitzalan, Michael Reilly Burke, Kayla Caulfield, Jessica Blank, Jeffrey Corazzini, Adrian M. Mompoint, Michael Tow'},\n",
       " {'id': 59,\n",
       "  'nome': 'Perfeita Pra Você',\n",
       "  'ano': '2018',\n",
       "  'diretor': 'Stephanie Laing',\n",
       "  'roteiro': 'Bess Wohl',\n",
       "  'elenco': \"Gugu Mbatha-Raw, Michiel Huisman, Christopher Walken, Steve Coogan, Jacki Weaver, Claire Holt, Timothy Simons, Gayle Rankin, Kate McKinnon, Tamara Tunie, Jessie Ennis, Brian Tyree Henry, Glenn Fleshler, Zabryna Guevara, Richard Holmes, Sawyer Barth, Celeste O'Connor, Alyssa Cheatham, Zachary Hernandez, Grace Rex\"},\n",
       " {'id': 60,\n",
       "  'nome': 'O Banquete',\n",
       "  'ano': '2018',\n",
       "  'diretor': 'Daniela Thomas',\n",
       "  'roteiro': 'Daniela Thomas',\n",
       "  'elenco': 'Caco Ciocler, Drica Moraes, Bruna Linzmeyer, Rodrigo Bolzan, Georgette Fadel, Fabiana Gugli, Mariana Lima, Gustavo Machado, Chay Suede'}]"
      ]
     },
     "execution_count": 68,
     "metadata": {},
     "output_type": "execute_result"
    }
   ],
   "source": [
    "xpath_details = '/html/body/div[2]/div[4]/div/div/div[3]/div[3]/div[2]/p'\n",
    "\n",
    "filmes = []\n",
    "for i in range(51,61):\n",
    "    filme = {'id':i}\n",
    "    tree = etree.parse(root + str(i) + '.html', parser)\n",
    "    details = tree.xpath(xpath_details)\n",
    "    \n",
    "    nome = get_element_text(details[0])\n",
    "    if \"(\" in nome:\n",
    "        filme['nome']=nome[:nome.index(\"(\")].strip()\n",
    "        filme['ano']=nome[nome.index(\"(\")+1:nome.index(\")\")]\n",
    "        \n",
    "    diretor = get_element_text(details[1])\n",
    "    if diretor.rfind(\"-\")>-1:\n",
    "        filme['diretor']=diretor[diretor.rfind(\"-\")+1:].strip()\n",
    "        \n",
    "    roteiro = get_element_text(details[3])\n",
    "    if roteiro.find(\":\") > -1:\n",
    "        filme[remover_acentos(roteiro[:roteiro.find(\":\")].lower())] = roteiro[roteiro.find(\":\")+1:].strip()\n",
    "        \n",
    "    elenco = get_element_text(details[4])\n",
    "    if elenco.find(\":\") > -1:\n",
    "        filme[remover_acentos(elenco[:elenco.find(\":\")].lower())] = elenco[elenco.find(\":\")+1:].strip()\n",
    "    \n",
    "    filmes.append(filme)\n",
    "filmes"
   ]
  },
  {
   "cell_type": "code",
   "execution_count": 69,
   "metadata": {},
   "outputs": [
    {
     "data": {
      "text/plain": [
       "True"
      ]
     },
     "execution_count": 69,
     "metadata": {},
     "output_type": "execute_result"
    }
   ],
   "source": [
    "rapadura = [{'id': 51,  'nome': 'O Predador',  'ano': '2018',  'diretor': 'Shane Black',  'roteiro': 'Fred Dekker, Shane Black',  'elenco': 'Boyd Holbrook, Trevante Rhodes, Jacob Tremblay, Keegan-Michael Key, Olivia Munn, Thomas Jane, Alfie Allen, Sterling K. Brown, Augusto Aguilera, Jake Busey, Yvonne Strahovski, Edward James Olmos, Niall Matter, Dean Redman, Steve Wilder, Nikolas Dukic, Andrew Jenkins, Crystal Mudry, Paul Lazenby, Lochlyn Munro'}, {'id': 52,  'nome': 'Benzinho',  'ano': '2018',  'diretor': 'Gustavo Pizzi',  'roteiro': 'Gustavo Pizzi, Karine Teles',  'elenco': 'Karine Teles, Otávio Müller, Adriana Esteves, Konstantinos Sarris, César Troncoso, Mateus Solano, Camilo Pellegrini, Ariclenes Barroso, Pablo Riera, Lucas Gouvêa, Ingrid Guimarães'}, {'id': 53,  'nome': 'A Barraca do Beijo',  'ano': '2018',  'diretor': 'Vince Marcello',  'roteiro': 'Vince Marcello',  'elenco': 'Joey King, Joel Courtney, Jacob Elordi, Molly Ringwald, Carson White, Frances Sholto-Douglas, Nathan Lynn, Meganne Young, Byron Langley, D. David Morin, Dan Elijah Rudin, Robbie Tucker, Jessica Sutton, Michelle Allen, Joshua Daniel Eady, Judd Krok, Chase Dallas, Celina Caroto, Ben Lillie, Megan du Plessis'}, {'id': 54,  'nome': 'Meu Ex é um Espião',  'ano': '2018',  'diretor': 'Susanna Fogel',  'roteiro': 'Susanna Fogel, David Iserson',  'elenco': 'Mila Kunis, Kate McKinnon, Justin Theroux, Gillian Anderson, Sam Heughan, Hasan Minhaj, Ivanna Sakhno, Fred Melamed, Jane Curtin, Paul Reiser, James Fleet, Carolyn Pickles, Kev Adams, Lolly Adefope, Dustin Demri-Burns, Justine Wachsberger, Ólafur Darri Ólafsson, Attila Árpa, Ruby Kammer, Genevieve McCarthy'}, {'id': 55,  'nome': 'A Freira',  'ano': '2018',  'diretor': 'Corin Hardy',  'roteiro': 'Gary Dauberman',  'elenco': 'Bonnie Aarons, Demián Bichir, Taissa Farmiga, Charlotte Hope, Ingrid Bisu, Manuela Ciucur, Jonas Bloquet, Jonny Coyne, Jared Morgan, Sandra Teles, Boiangiu Alma, August Maturo'}, {'id': 56,  'nome': 'Mamma Mia! Lá Vamos Nós de Novo',  'ano': '2018',  'diretor': 'Ol Parker',  'roteiro': 'Ol Parker, Richard Curtis, Catherine Johnson',  'elenco': 'Amanda Seyfried, Lily James, Dominic Cooper, Christine Baranski, Julie Walters, Pierce Brosnan, Colin Firth, Stellan Skarsgård, Andy García, Cher, Meryl Streep, Jessica Keenan Wynn, Alexa Davies, Jeremy Irvine, Hugh Skinner, Josh Dylan, Omid Djalili, Celia Imrie, Maria Vacratsis, Panos Mouzourakis'}, {'id': 57,  'nome': 'Onde Está Você, João Gilberto?',  'ano': '2018',  'diretor': 'Georges Gachot',  'roteiro': '',  'elenco': 'João Gilberto'}, {'id': 58,  'nome': 'Slender Man: Pesadelo Sem Rosto',  'ano': '2018',  'diretor': 'Sylvain White',  'roteiro': 'David Birke',  'elenco': 'Joey King, Javier Botet, Julia Goldani Telles, Jaz Sinclair, Kevin Chapman, Annalise Basso, Talitha Bateman, Alex Fitzalan, Michael Reilly Burke, Kayla Caulfield, Jessica Blank, Jeffrey Corazzini, Adrian M. Mompoint, Michael Tow'}, {'id': 59,  'nome': 'Perfeita Pra Você',  'ano': '2018',  'diretor': 'Stephanie Laing',  'roteiro': 'Bess Wohl',  'elenco': \"Gugu Mbatha-Raw, Michiel Huisman, Christopher Walken, Steve Coogan, Jacki Weaver, Claire Holt, Timothy Simons, Gayle Rankin, Kate McKinnon, Tamara Tunie, Jessie Ennis, Brian Tyree Henry, Glenn Fleshler, Zabryna Guevara, Richard Holmes, Sawyer Barth, Celeste O'Connor, Alyssa Cheatham, Zachary Hernandez, Grace Rex\"}, {'id': 60,  'nome': 'O Banquete',  'ano': '2018',  'diretor': 'Daniela Thomas',  'roteiro': 'Daniela Thomas',  'elenco': 'Caco Ciocler, Drica Moraes, Bruna Linzmeyer, Rodrigo Bolzan, Georgette Fadel, Fabiana Gugli, Mariana Lima, Gustavo Machado, Chay Suede'}]\n",
    "filmes == rapadura"
   ]
  },
  {
   "cell_type": "markdown",
   "metadata": {},
   "source": [
    "### Plano Crítico"
   ]
  },
  {
   "cell_type": "code",
   "execution_count": 48,
   "metadata": {},
   "outputs": [],
   "source": [
    "def text_normalize(text):\n",
    "    return normalize(\"NFKD\",text)"
   ]
  },
  {
   "cell_type": "code",
   "execution_count": 70,
   "metadata": {
    "scrolled": true
   },
   "outputs": [
    {
     "data": {
      "text/plain": [
       "[{'id': 61,\n",
       "  'nome': 'Funny Girl – Uma Garota Genial (Funny Girl) – EUA, 1968',\n",
       "  'direcao': 'William Wyler',\n",
       "  'roteiro': 'Isobel Lennart (baseado em Funny Girl, escrito por Isobel Lennart, Jule Stynne e Bob Merrill)',\n",
       "  'elenco': 'Barbra Streisand, Omar Sharif, Kay Medford, Anne Francis, Walter Pidgeon, Lee Allen, Mae Questel, Gerald Mohr, Frank Faylen, Alena Johnston, Thordis Brandt, Arthur Tovey',\n",
       "  'duracao': '149 min.'},\n",
       " {'id': 62,\n",
       "  'nome': 'Simplesmente Martha (Bella Martha/Alemanha, 2001)',\n",
       "  'direcao': 'Sandra Nettelbeck',\n",
       "  'roteiro': 'Sandra Nettelbeck',\n",
       "  'elenco': 'Antonio Wannek, August Zirner, Diego Ribon, Idil Üner, Katja Studt, Martina Gedeck, Maxime Foerste, Oliver Broumis, Sergio Castellitto, Sibylle Canonica, Ulrich Thomsen',\n",
       "  'duracao': '103 min.'},\n",
       " {'id': 63,\n",
       "  'nome': 'O Mistério do Relógio na Parede (The House with a Clock in Its Walls) EUA, 2018',\n",
       "  'direcao': 'Eli Roth',\n",
       "  'roteiro': 'Eric Kripke, John Bellairs',\n",
       "  'elenco': 'Owen Vaccaro, Jack Black, Cate Blanchett, Kyle MacLachlan, Collen Camp, Sunny Suljic, Lorenza Izzo, Braxton Bjerken, Vanessa Anne Williams, Charles Green, De’Jon Watts, Aaron Beelner, Joshua Phillips, Christian Calloway',\n",
       "  'duracao': '105 min.'},\n",
       " {'id': 64,\n",
       "  'nome': 'Batman – O Retorno (Batman Returns, EUA/ Reino Unido – 1992)',\n",
       "  'direcao': 'Tim Burton',\n",
       "  'roteiro': 'Daniel Waters (baseado em história dele e de Sam Hamm)',\n",
       "  'elenco': 'Michael Keaton, Danny DeVito, Michelle Pfeiffer, Christopher Walken, Michael Gough, Michael Murphy, Cristi Conaway, Andrew Bryniarski, Pat Hingle, Vincent Schiavelli, Steve Witting, Jan Hooks',\n",
       "  'duracao': '126 min.'},\n",
       " {'id': 65,\n",
       "  'nome': 'Uma Questão Pessoal (Una questione privata) — Itália, França, 2017',\n",
       "  'direcao': 'Paolo Taviani',\n",
       "  'roteiro': 'Paolo Taviani, Vittorio Taviani (baseado na obra de Beppe Fenoglio)',\n",
       "  'elenco': 'Luca Marinelli, Lorenzo Richelmy, Valentina Bellè, Francesca Agostini, Jacopo Olmo Antinori, Antonella Attili, Giulio Beranek, Mario Bois, Marco Brinzi, Fabrizio Costella, Mauro Conte, Lorenzo Demaria, Andrea Di Maria, Guglielmo Favilla, Anna Ferruzzo',\n",
       "  'duracao': '84 min.'},\n",
       " {'id': 66,\n",
       "  'nome': 'A Nova Onda do Imperador (The Emperor’s New Groove) – EUA, 2000',\n",
       "  'direcao': 'Mark Dindal',\n",
       "  'roteiro': 'David Reynolds, Mark Dindal, Chris Williams, Roger Allers',\n",
       "  'elenco': 'David Spade, John Goodman, Eartha Kitt, Patrick Warburton, Wendie Malick, Kellyann Kelso, Eli Russell Linnetz, Stephen J. Anderson, Bob Bergen, Patti Deutsch, John Fiedler, Sherry Lynn, Mickie McGowan',\n",
       "  'duracao': '78 min.'},\n",
       " {'id': 67,\n",
       "  'nome': 'Buscando... (Searching..., Estados Unidos- 2018)',\n",
       "  'direcao': 'Aneesh Chaganty',\n",
       "  'roteiro': 'Aneesh Chaganty, Sev Ohanian',\n",
       "  'elenco': 'Alex Jayne Go, Ashley Edner, Benjamin J. Cain Jr., Brad Abrell, Courtney Lauren Cummings, Debra Messing, Erin Henriques, Gabriel D. Angell, Gage Biltoft, John Cho, Joseph Lee, Kyle Austin Brown, Lasaundra Gibson, Melissa Disney, Michelle La, Morgan Peter Brown, Rasha Goel, Reed Buck, Roy Abramsohn, Sara Sohn, Steven Michael Eich, Thomas Barbusca',\n",
       "  'duracao': '1o1 min'},\n",
       " {'id': 68,\n",
       "  'nome': 'Laranja Mecânica (A Clockwork Orange, Reino Unido/EUA – 1971)',\n",
       "  'direcao': 'Stanley Kubrick',\n",
       "  'roteiro': 'Stanley Kubrick (baseado em romance de Anthony Burgess)',\n",
       "  'elenco': 'Malcolm McDowell, Patrick Magee, Michael Bates, Warren Clarke, John Clive, Adrienne Corri, Carl Duering, Paul Farrell, Clive Francis, Michael Gover, Miriam Karlin, James Marcus, Aubrey Morris, Godfrey Quigley, Sheila Raynor',\n",
       "  'duracao': '136 min.'},\n",
       " {'id': 69,\n",
       "  'nome': 'Adeus Christopher Robin (Goodbye Christopher Robin) – Reino Unido, 2017',\n",
       "  'direcao': 'Simon Curtis',\n",
       "  'roteiro': 'Frank Cottrell Boyce, Simon Vaughan',\n",
       "  'elenco': 'Kelly Macdonald, Margot Robbie, Domnhall Gleeson, Will Tilston, Alex Lawther, Stephen Campbell Moore, Richard McCabe, Geradine Sommerville, Mossie Smith, Vicki Pepperdine',\n",
       "  'duracao': '107 min'},\n",
       " {'id': 70,\n",
       "  'nome': 'Bleach – Japão, 2018',\n",
       "  'direcao': 'Shinsuke Sato',\n",
       "  'roteiro': 'Shinsuke Sato, Daisuke Habara, Tite Kubo',\n",
       "  'elenco': 'Sota Fukushi, Hana Sugisaki, Ryo Yoshizawa, Erina Mano, Yu Koyanagi, Taichi Saotome, Miyavi, Seiichi Tanabe, Masami Nagasawa, Yosuke Eguchi',\n",
       "  'duracao': '108 min.'}]"
      ]
     },
     "execution_count": 70,
     "metadata": {},
     "output_type": "execute_result"
    }
   ],
   "source": [
    "xpath_details = '(//*[@id=\"content-area\"]/p)[last()]'\n",
    "\n",
    "filmes = []\n",
    "for i in range(61,71):\n",
    "    filme = {'id': i}\n",
    "    tree = etree.parse(root + str(i) + '.html', parser)\n",
    "    details = tree.xpath(xpath_details)\n",
    "    details = get_element_text(details[0]).split(\"\\n\")\n",
    "    filme['nome'] = text_normalize(details[0])\n",
    "    for item in details[1:]:\n",
    "        if item.find(\":\") > -1:\n",
    "            filme[remover_acentos(item[:item.find(\":\")].lower())] = text_normalize(item[item.find(\":\")+1:].strip())\n",
    "    filmes.append(filme)\n",
    "filmes"
   ]
  },
  {
   "cell_type": "code",
   "execution_count": 71,
   "metadata": {},
   "outputs": [
    {
     "data": {
      "text/plain": [
       "True"
      ]
     },
     "execution_count": 71,
     "metadata": {},
     "output_type": "execute_result"
    }
   ],
   "source": [
    "planocritico = [{'id': 61,  'nome': 'Funny Girl – Uma Garota Genial (Funny Girl) – EUA, 1968',  'direcao': 'William Wyler',  'roteiro': 'Isobel Lennart (baseado em Funny Girl, escrito por Isobel Lennart, Jule Stynne e Bob Merrill)',  'elenco': 'Barbra Streisand, Omar Sharif, Kay Medford, Anne Francis, Walter Pidgeon, Lee Allen, Mae Questel, Gerald Mohr, Frank Faylen, Alena Johnston, Thordis Brandt, Arthur Tovey',  'duracao': '149 min.'}, {'id': 62,  'nome': 'Simplesmente Martha (Bella Martha/Alemanha, 2001)',  'direcao': 'Sandra Nettelbeck',  'roteiro': 'Sandra Nettelbeck',  'elenco': 'Antonio Wannek, August Zirner, Diego Ribon, Idil Üner, Katja Studt, Martina Gedeck, Maxime Foerste, Oliver Broumis, Sergio Castellitto, Sibylle Canonica, Ulrich Thomsen',  'duracao': '103 min.'}, {'id': 63,  'nome': 'O Mistério do Relógio na Parede (The House with a Clock in Its Walls) EUA, 2018',  'direcao': 'Eli Roth',  'roteiro': 'Eric Kripke, John Bellairs',  'elenco': 'Owen Vaccaro, Jack Black, Cate Blanchett, Kyle MacLachlan, Collen Camp, Sunny Suljic, Lorenza Izzo, Braxton Bjerken, Vanessa Anne Williams, Charles Green, De’Jon Watts, Aaron Beelner, Joshua Phillips, Christian Calloway',  'duracao': '105 min.'}, {'id': 64,  'nome': 'Batman – O Retorno (Batman Returns, EUA/ Reino Unido – 1992)',  'direcao': 'Tim Burton',  'roteiro': 'Daniel Waters (baseado em história dele e de Sam Hamm)',  'elenco': 'Michael Keaton, Danny DeVito, Michelle Pfeiffer, Christopher Walken, Michael Gough, Michael Murphy, Cristi Conaway, Andrew Bryniarski, Pat Hingle, Vincent Schiavelli, Steve Witting, Jan Hooks',  'duracao': '126 min.'}, {'id': 65,  'nome': 'Uma Questão Pessoal (Una questione privata) — Itália, França, 2017',  'direcao': 'Paolo Taviani',  'roteiro': 'Paolo Taviani, Vittorio Taviani (baseado na obra de Beppe Fenoglio)',  'elenco': 'Luca Marinelli, Lorenzo Richelmy, Valentina Bellè, Francesca Agostini, Jacopo Olmo Antinori, Antonella Attili, Giulio Beranek, Mario Bois, Marco Brinzi, Fabrizio Costella, Mauro Conte, Lorenzo Demaria, Andrea Di Maria, Guglielmo Favilla, Anna Ferruzzo',  'duracao': '84 min.'}, {'id': 66,  'nome': 'A Nova Onda do Imperador (The Emperor’s New Groove) – EUA, 2000',  'direcao': 'Mark Dindal',  'roteiro': 'David Reynolds, Mark Dindal, Chris Williams, Roger Allers',  'elenco': 'David Spade, John Goodman, Eartha Kitt, Patrick Warburton, Wendie Malick, Kellyann Kelso, Eli Russell Linnetz, Stephen J. Anderson, Bob Bergen, Patti Deutsch, John Fiedler, Sherry Lynn, Mickie McGowan',  'duracao': '78 min.'}, {'id': 67,  'nome': 'Buscando... (Searching..., Estados Unidos- 2018)',  'direcao': 'Aneesh Chaganty',  'roteiro': 'Aneesh Chaganty, Sev Ohanian',  'elenco': 'Alex Jayne Go, Ashley Edner, Benjamin J. Cain Jr., Brad Abrell, Courtney Lauren Cummings, Debra Messing, Erin Henriques, Gabriel D. Angell, Gage Biltoft, John Cho, Joseph Lee, Kyle Austin Brown, Lasaundra Gibson, Melissa Disney, Michelle La, Morgan Peter Brown, Rasha Goel, Reed Buck, Roy Abramsohn, Sara Sohn, Steven Michael Eich, Thomas Barbusca',  'duracao': '1o1 min'}, {'id': 68,  'nome': 'Laranja Mecânica (A Clockwork Orange, Reino Unido/EUA – 1971)',  'direcao': 'Stanley Kubrick',  'roteiro': 'Stanley Kubrick (baseado em romance de Anthony Burgess)',  'elenco': 'Malcolm McDowell, Patrick Magee, Michael Bates, Warren Clarke, John Clive, Adrienne Corri, Carl Duering, Paul Farrell, Clive Francis, Michael Gover, Miriam Karlin, James Marcus, Aubrey Morris, Godfrey Quigley, Sheila Raynor',  'duracao': '136 min.'}, {'id': 69,  'nome': 'Adeus Christopher Robin (Goodbye Christopher Robin) – Reino Unido, 2017',  'direcao': 'Simon Curtis',  'roteiro': 'Frank Cottrell Boyce, Simon Vaughan',  'elenco': 'Kelly Macdonald, Margot Robbie, Domnhall Gleeson, Will Tilston, Alex Lawther, Stephen Campbell Moore, Richard McCabe, Geradine Sommerville, Mossie Smith, Vicki Pepperdine',  'duracao': '107 min'}, {'id': 70,  'nome': 'Bleach – Japão, 2018',  'direcao': 'Shinsuke Sato',  'roteiro': 'Shinsuke Sato, Daisuke Habara, Tite Kubo',  'elenco': 'Sota Fukushi, Hana Sugisaki, Ryo Yoshizawa, Erina Mano, Yu Koyanagi, Taichi Saotome, Miyavi, Seiichi Tanabe, Masami Nagasawa, Yosuke Eguchi',  'duracao': '108 min.'}]\n",
    "filmes==planocritico"
   ]
  },
  {
   "cell_type": "markdown",
   "metadata": {},
   "source": [
    "### Plano Aberto"
   ]
  },
  {
   "cell_type": "code",
   "execution_count": 73,
   "metadata": {
    "scrolled": true
   },
   "outputs": [
    {
     "data": {
      "text/plain": [
       "[{'id': 71,\n",
       "  'nome': 'Bloqueio, 2018 - Brasil',\n",
       "  'direcao': 'Victória Álvares, Quentin Delaroche',\n",
       "  'elenco': 'Marocs da Silva dos Santos, Benedito Amauro, Parazinho'},\n",
       " {'id': 72,\n",
       "  'nome': 'New Life S.A., 2018 – Brasil',\n",
       "  'direcao': 'André Carvalheira',\n",
       "  'roteiro': 'André Carvalheira, Aurélio Aragão, Pablo Gonçalo',\n",
       "  'elenco': 'Fernanda Rocha, Murilo Grossi, Catarina Accioly, Eric Naves, Edu Moares, Juliano Coacci, André Deca, Bianca Terraza, Wellington Abreu, Marcelo Pelucio',\n",
       "  'fotografia': 'Krishna Schmidt',\n",
       "  'design de producao': 'Maíra Carvalho'},\n",
       " {'id': 73,\n",
       "  'nome': 'Excelentíssimos, 2018 - Brasil',\n",
       "  'direcao': 'Douglas Duarte'},\n",
       " {'id': 74,\n",
       "  'nome': 'Torre das Donzelas, 2018 - Brasil',\n",
       "  'direcao': 'Susanna Lira',\n",
       "  'roteiro': 'Susanna Lira'},\n",
       " {'id': 75,\n",
       "  'nome': 'Domingo, 2018 – Brasil',\n",
       "  'direcao': 'Fellipe Barbosa, Clara Linhart',\n",
       "  'roteiro': 'Lucas Paraizo',\n",
       "  'elenco': 'Itala Nardi, Camila Morgado, Augusto Madeira, Michael Wahrmann, Martha Nowill, Clemente Viscaíno, Ismael Caneppele'},\n",
       " {'id': 76,\n",
       "  'nome': 'Carnivores, 2018 - França e Bélgica',\n",
       "  'direcao': 'Jérémie Renier & Yannick Renier',\n",
       "  'roteiro': 'Bulle Decarpentries, Jérémie Guez, Yaël Langmann, Jérémie Renier, Yannick Renier & Agnès de Sacy',\n",
       "  'elenco': 'Leïla Bekhti, Zita Hanrot, Bastien Bouillon, Johan Heldenbergh, Hiam Abbass & Octave Bossuet',\n",
       "  'fotografia': 'Georges Lechaptois',\n",
       "  'trilha sonora': 'Avia',\n",
       "  'montagem': 'Nico Leunen',\n",
       "  'design de producao': 'Nora Salhi'},\n",
       " {'id': 77,\n",
       "  'nome': 'The Predator, 2018 - Canadá e Estados Unidos',\n",
       "  'direcao': 'Shane Black',\n",
       "  'roteiro': 'Fred Dekker & Shane Black',\n",
       "  'elenco': 'Boyd Holbrook, Trevante Rhodes, Olivia Munn, Jacob Tremblay, Sterling K. Brown, Keegan-Michael Key, Thomas Jane, Alfie Allen, Augusto Aguilera & Yvonne Strahovski',\n",
       "  'fotografia': 'Larry Fong',\n",
       "  'trilha sonora': 'Henry Jackman',\n",
       "  'montagem': 'Harry B. Miller III',\n",
       "  'design de producao': 'Martin Whist'},\n",
       " {'id': 78,\n",
       "  'nome': 'The Nun, 2018 - Estados Unidos',\n",
       "  'direcao': 'Corin Hardy',\n",
       "  'roteiro': 'Gary Dauberman',\n",
       "  'elenco': 'Taissa Farmiga, Demián Bichir, Jonas Bloquet, Bonnie Aarons, Ingrid Bisu, Charlotte Hope, Sandra Teles, August Maturo, Jack Falk & Lynnette Gaza',\n",
       "  'fotografia': 'Maxime Alexandre',\n",
       "  'trilha sonora': 'Abel Korzeniowski',\n",
       "  'montagem': 'Michel Aller, Ken Blackwell',\n",
       "  'design de producao': 'Jennifer Spence'},\n",
       " {'id': 79,\n",
       "  'nome': 'Searching, 2018 - Estados Unidos',\n",
       "  'direcao': 'Aneesh Chaganty',\n",
       "  'roteiro': 'Aneesh Chaganty & Sev Ohanian',\n",
       "  'elenco': 'John Cho, Sara Sohn, Michelle La, Joseph Lee & Debra Messing',\n",
       "  'fotografia': 'Juan Sebastian Baron, Nicholas D. Johnson & Will Merrick',\n",
       "  'trilha sonora': 'Torin Borrowdale',\n",
       "  'montagem': 'Nicholas D. Johnson, Will Merrick',\n",
       "  'design de producao': 'Angel Herrera'},\n",
       " {'id': 80,\n",
       "  'nome': 'O Nome da Morte, 2017 - Brasil',\n",
       "  'direcao': 'Henrique Goldman',\n",
       "  'roteiro': 'Henrique Goldman, George Moura',\n",
       "  'elenco': 'Marco Pigossi, Fabíula Nascimento, André Mattos, Matheus Nachtergaele, Tony Tornado, Augusto Madeira, Martha Nowill',\n",
       "  'fotografia': 'Azul Serra',\n",
       "  'trilha sonora': 'Brian Eno',\n",
       "  'montagem': 'Lívia Serpa',\n",
       "  'design de producao': 'Tiago Marques'}]"
      ]
     },
     "execution_count": 73,
     "metadata": {},
     "output_type": "execute_result"
    }
   ],
   "source": [
    "xpath_details = '//*[@id=\"fica-tecnica\"]/div[2]/p'\n",
    "\n",
    "filmes = []\n",
    "for i in range(71,81):\n",
    "    filme = {'id': i}\n",
    "    tree = etree.parse(root + str(i) + '.html', parser)\n",
    "    details = tree.xpath(xpath_details)\n",
    "    \n",
    "    filme['nome'] = get_element_text(details[0])\n",
    "    for item in details[1:]:\n",
    "        item = get_element_text(item)\n",
    "        if item.find(\":\") > -1:\n",
    "            filme[remover_acentos(item[:item.find(\":\")].lower())] = item[item.find(\":\")+1:].strip()\n",
    "    filmes.append(filme)\n",
    "filmes"
   ]
  },
  {
   "cell_type": "code",
   "execution_count": 74,
   "metadata": {},
   "outputs": [
    {
     "data": {
      "text/plain": [
       "True"
      ]
     },
     "execution_count": 74,
     "metadata": {},
     "output_type": "execute_result"
    }
   ],
   "source": [
    "planoaberto = [{'id': 71,  'nome': 'Bloqueio, 2018 - Brasil',  'direcao': 'Victória Álvares, Quentin Delaroche',  'elenco': 'Marocs da Silva dos Santos, Benedito Amauro, Parazinho'}, {'id': 72,  'nome': 'New Life S.A., 2018 – Brasil',  'direcao': 'André Carvalheira',  'roteiro': 'André Carvalheira, Aurélio Aragão, Pablo Gonçalo',  'elenco': 'Fernanda Rocha, Murilo Grossi, Catarina Accioly, Eric Naves, Edu Moares, Juliano Coacci, André Deca, Bianca Terraza, Wellington Abreu, Marcelo Pelucio',  'fotografia': 'Krishna Schmidt',  'design de producao': 'Maíra Carvalho'}, {'id': 73,  'nome': 'Excelentíssimos, 2018 - Brasil',  'direcao': 'Douglas Duarte'}, {'id': 74,  'nome': 'Torre das Donzelas, 2018 - Brasil',  'direcao': 'Susanna Lira',  'roteiro': 'Susanna Lira'}, {'id': 75,  'nome': 'Domingo, 2018 – Brasil',  'direcao': 'Fellipe Barbosa, Clara Linhart',  'roteiro': 'Lucas Paraizo',  'elenco': 'Itala Nardi, Camila Morgado, Augusto Madeira, Michael Wahrmann, Martha Nowill, Clemente Viscaíno, Ismael Caneppele'}, {'id': 76,  'nome': 'Carnivores, 2018 - França e Bélgica',  'direcao': 'Jérémie Renier & Yannick Renier',  'roteiro': 'Bulle Decarpentries, Jérémie Guez, Yaël Langmann, Jérémie Renier, Yannick Renier & Agnès de Sacy',  'elenco': 'Leïla Bekhti, Zita Hanrot, Bastien Bouillon, Johan Heldenbergh, Hiam Abbass & Octave Bossuet',  'fotografia': 'Georges Lechaptois',  'trilha sonora': 'Avia',  'montagem': 'Nico Leunen',  'design de producao': 'Nora Salhi'}, {'id': 77,  'nome': 'The Predator, 2018 - Canadá e Estados Unidos',  'direcao': 'Shane Black',  'roteiro': 'Fred Dekker & Shane Black',  'elenco': 'Boyd Holbrook, Trevante Rhodes, Olivia Munn, Jacob Tremblay, Sterling K. Brown, Keegan-Michael Key, Thomas Jane, Alfie Allen, Augusto Aguilera & Yvonne Strahovski',  'fotografia': 'Larry Fong',  'trilha sonora': 'Henry Jackman',  'montagem': 'Harry B. Miller III',  'design de producao': 'Martin Whist'}, {'id': 78,  'nome': 'The Nun, 2018 - Estados Unidos',  'direcao': 'Corin Hardy',  'roteiro': 'Gary Dauberman',  'elenco': 'Taissa Farmiga, Demián Bichir, Jonas Bloquet, Bonnie Aarons, Ingrid Bisu, Charlotte Hope, Sandra Teles, August Maturo, Jack Falk & Lynnette Gaza',  'fotografia': 'Maxime Alexandre',  'trilha sonora': 'Abel Korzeniowski',  'montagem': 'Michel Aller, Ken Blackwell',  'design de producao': 'Jennifer Spence'}, {'id': 79,  'nome': 'Searching, 2018 - Estados Unidos',  'direcao': 'Aneesh Chaganty',  'roteiro': 'Aneesh Chaganty & Sev Ohanian',  'elenco': 'John Cho, Sara Sohn, Michelle La, Joseph Lee & Debra Messing',  'fotografia': 'Juan Sebastian Baron, Nicholas D. Johnson & Will Merrick',  'trilha sonora': 'Torin Borrowdale',  'montagem': 'Nicholas D. Johnson, Will Merrick',  'design de producao': 'Angel Herrera'}, {'id': 80,  'nome': 'O Nome da Morte, 2017 - Brasil',  'direcao': 'Henrique Goldman',  'roteiro': 'Henrique Goldman, George Moura',  'elenco': 'Marco Pigossi, Fabíula Nascimento, André Mattos, Matheus Nachtergaele, Tony Tornado, Augusto Madeira, Martha Nowill',  'fotografia': 'Azul Serra',  'trilha sonora': 'Brian Eno',  'montagem': 'Lívia Serpa',  'design de producao': 'Tiago Marques'}]\n",
    "filmes == planoaberto"
   ]
  },
  {
   "cell_type": "markdown",
   "metadata": {},
   "source": [
    "### Cinema Sim"
   ]
  },
  {
   "cell_type": "code",
   "execution_count": 76,
   "metadata": {
    "scrolled": true
   },
   "outputs": [
    {
     "data": {
      "text/plain": [
       "[{'id': 81,\n",
       "  'nome': 'O Retorno do Herói',\n",
       "  'titulo original': 'Le Retour du Héros',\n",
       "  'lancamento': '20 de setembro',\n",
       "  'direcao': 'Laurent Tirard',\n",
       "  'roteiro': 'Laurent Tirard, Grégoire Vigneron',\n",
       "  'genero': 'Comédia',\n",
       "  'elenco': 'Jean Dujardin, Mélanie Laurent, Noémie Merlant',\n",
       "  'nacionalidade': 'França, Bélgica'},\n",
       " {'id': 82,\n",
       "  'nome': 'Marvin',\n",
       "  'titulo original': 'Marvin ou La Belle Éducation',\n",
       "  'lancamento': '06 de setembro',\n",
       "  'direcao': 'Anne Fontaine',\n",
       "  'roteiro': 'Anne Fontaine, Pierre Trividic',\n",
       "  'genero': 'Drama',\n",
       "  'elenco': 'Finnegan Oldfield, Grégory Gadebois, Vincent Macaigne',\n",
       "  'nacionalidade': 'França'},\n",
       " {'id': 83,\n",
       "  'nome': 'Sierra Burgess é uma Loser',\n",
       "  'titulo original': 'Sierra Burgess is Loser',\n",
       "  'lancamento': '07 de setembro de 2018',\n",
       "  'direcao': 'Ian Samuels',\n",
       "  'roteiro': 'Lindsey Beer',\n",
       "  'genero': 'Comédia Romântica',\n",
       "  'elenco': 'Shannon Purser, RJ Cyler, Noah Centineo, Will Peltz, Kristine Froseth, Lea Thompson e Alan Ruck',\n",
       "  'nacionalidade': 'Estados Unidos'},\n",
       " {'id': 84,\n",
       "  'nome': 'Crô em Família',\n",
       "  'titulo original': 'Crô em Família',\n",
       "  'ano': '2018',\n",
       "  'direcao': 'Cininha de Paula',\n",
       "  'roteiro': 'Leandro Soares',\n",
       "  'genero': 'Comédia',\n",
       "  'elenco': 'Marcelo Serrado, Jefferson Schroeder, Karina Marthin, João Baldasserini, Mel Maia, Mary Sheyla, Fabiana Karla, Pabllo Vittar, Jojo Todynho, Carol Sampaio, Preta Gil, Gigante Leo, Luis Miranda, Marcus Majella e Marcos Caruso.'},\n",
       " {'id': 85,\n",
       "  'nome': 'Candidato Honesto 2 – Sério?',\n",
       "  'titulo original': 'Candidato Honesto 2',\n",
       "  'lancamento': '30 de agosto',\n",
       "  'direcao': 'Roberto Santucci',\n",
       "  'roteiro': 'Paulo Cursino',\n",
       "  'genero': 'Comédia',\n",
       "  'elenco': 'Leandro Hassum, Flávia Garrafa, Rosanne Mulholland, Victor Leal, Cassio Pandolfh, Maria Padilha.'},\n",
       " {'id': 86,\n",
       "  'nome': 'Os Jovens Titãs em Ação! Nos Cinemas',\n",
       "  'titulo original': 'Teen Titans Go! To The Movies',\n",
       "  'ano': '2018',\n",
       "  'direcao': 'Peter Rida Michail, Aaron Horvath',\n",
       "  'roteiro': 'Aaron Horvath, Michael Jelenic',\n",
       "  'genero': 'Animação',\n",
       "  'elenco': 'Kristen Bell, Will Arnett, Hynden Walch, Tara Strong, Khary Payton, Scott Menville, Greg Cipes'},\n",
       " {'id': 87,\n",
       "  'nome': 'Para Todos Os Garotos Que Já Amei',\n",
       "  'direcao': 'Susan Johnson',\n",
       "  'elenco': 'Lana Condor, John Corbett, Noah Centineo mais'},\n",
       " {'id': 88,\n",
       "  'nome': 'As Herdeiras',\n",
       "  'titulo original': 'Las herederas',\n",
       "  'lancamento': '30 de Agosto',\n",
       "  'direcao': 'Marcelo Martinessi',\n",
       "  'genero': 'Drama',\n",
       "  'elenco': 'Ana Brun, Margarita Irun, Ana Ivanova.'},\n",
       " {'id': 89,\n",
       "  'nome': 'Mamma Mia! Lá Vamos Nós de Novo',\n",
       "  'titulo original': 'Mamma Mia! Here We Go Again',\n",
       "  'lancamento': '02 de agosto de 2018',\n",
       "  'direcao': 'Ol Parker',\n",
       "  'roteiro': 'Ol Parker',\n",
       "  'genero': 'Musical',\n",
       "  'elenco': 'Pierce Brosnan, Meryl Streep, Dominic Cooper, Lily James, Andy García, Amanda Seyfried, Jeremy Irvine, Colin Firth, Hugh Skinner, Stellan Skarsgård, Josh Dylan, Christine Baranski, Jessica Keenan Wynn, Julie Walters, Alexa Davies, Cher.'},\n",
       " {'id': 90,\n",
       "  'nome': 'Gauguin: Viagem ao Taiti',\n",
       "  'titulo original': 'Gauguin: Voyage de Tahiti',\n",
       "  'lancamento': '23 de agosto',\n",
       "  'direcao': 'Edouard Deluc',\n",
       "  'roteiro': 'Edouard Deluc, Etienne Comar, Thomas Lilti, Sarah Kaminsky',\n",
       "  'genero': 'Drama, Biografia',\n",
       "  'elenco': 'Vincent Cassel, Tuheï Adams, Malik Zidi, Pernille Bergendorff',\n",
       "  'nacionalidade': 'França'}]"
      ]
     },
     "execution_count": 76,
     "metadata": {},
     "output_type": "execute_result"
    }
   ],
   "source": [
    "xpath_details = '//*[@id=\"site-top\"]/div[1]/div[4]/div/div/main/article/div[1]/div[1]/div[1]/div[2]'\n",
    "portuguese_name = '//*[@id=\"site-top\"]/div[1]/div[3]/div[2]/div/h1'\n",
    "\n",
    "filmes = []\n",
    "for i in range(81,91):\n",
    "    filme = {'id': i}\n",
    "    tree = etree.parse(root + str(i) + '.html', parser)\n",
    "    \n",
    "    nome = tree.xpath(portuguese_name)[0].text\n",
    "    if nome.find(\"|\") > -1:\n",
    "        filme['nome'] = nome[:nome.find(\"|\")].strip()\n",
    "    else:\n",
    "        filme['nome'] = nome\n",
    "    \n",
    "    details = tree.xpath(xpath_details)\n",
    "    details = details[0].text.split('\\n')\n",
    "    for item in details:\n",
    "        if item.find(\":\") > -1:\n",
    "            filme[remover_acentos(item[:item.find(\":\")].lower())] = item[item.find(\":\")+1:].strip()\n",
    "        \n",
    "    filmes.append(filme)\n",
    "filmes"
   ]
  },
  {
   "cell_type": "code",
   "execution_count": 77,
   "metadata": {},
   "outputs": [
    {
     "data": {
      "text/plain": [
       "True"
      ]
     },
     "execution_count": 77,
     "metadata": {},
     "output_type": "execute_result"
    }
   ],
   "source": [
    "cinemasim = [{'id': 81,  'nome': 'O Retorno do Herói',  'titulo original': 'Le Retour du Héros',  'lancamento': '20 de setembro',  'direcao': 'Laurent Tirard',  'roteiro': 'Laurent Tirard, Grégoire Vigneron',  'genero': 'Comédia',  'elenco': 'Jean Dujardin, Mélanie Laurent, Noémie Merlant',  'nacionalidade': 'França, Bélgica'}, {'id': 82,  'nome': 'Marvin',  'titulo original': 'Marvin ou La Belle Éducation',  'lancamento': '06 de setembro',  'direcao': 'Anne Fontaine',  'roteiro': 'Anne Fontaine, Pierre Trividic',  'genero': 'Drama',  'elenco': 'Finnegan Oldfield, Grégory Gadebois, Vincent Macaigne',  'nacionalidade': 'França'}, {'id': 83,  'nome': 'Sierra Burgess é uma Loser',  'titulo original': 'Sierra Burgess is Loser',  'lancamento': '07 de setembro de 2018',  'direcao': 'Ian Samuels',  'roteiro': 'Lindsey Beer',  'genero': 'Comédia Romântica',  'elenco': 'Shannon Purser, RJ Cyler, Noah Centineo, Will Peltz, Kristine Froseth, Lea Thompson e Alan Ruck',  'nacionalidade': 'Estados Unidos'}, {'id': 84,  'nome': 'Crô em Família',  'titulo original': 'Crô em Família',  'ano': '2018',  'direcao': 'Cininha de Paula',  'roteiro': 'Leandro Soares',  'genero': 'Comédia',  'elenco': 'Marcelo Serrado, Jefferson Schroeder, Karina Marthin, João Baldasserini, Mel Maia, Mary Sheyla, Fabiana Karla, Pabllo Vittar, Jojo Todynho, Carol Sampaio, Preta Gil, Gigante Leo, Luis Miranda, Marcus Majella e Marcos Caruso.'}, {'id': 85,  'nome': 'Candidato Honesto 2 – Sério?',  'titulo original': 'Candidato Honesto 2',  'lancamento': '30 de agosto',  'direcao': 'Roberto Santucci',  'roteiro': 'Paulo Cursino',  'genero': 'Comédia',  'elenco': 'Leandro Hassum, Flávia Garrafa, Rosanne Mulholland, Victor Leal, Cassio Pandolfh, Maria Padilha.'}, {'id': 86,  'nome': 'Os Jovens Titãs em Ação! Nos Cinemas',  'titulo original': 'Teen Titans Go! To The Movies',  'ano': '2018',  'direcao': 'Peter Rida Michail, Aaron Horvath',  'roteiro': 'Aaron Horvath, Michael Jelenic',  'genero': 'Animação',  'elenco': 'Kristen Bell, Will Arnett, Hynden Walch, Tara Strong, Khary Payton, Scott Menville, Greg Cipes'}, {'id': 87,  'nome': 'Para Todos Os Garotos Que Já Amei',  'direcao': 'Susan Johnson',  'elenco': 'Lana Condor, John Corbett, Noah Centineo mais'}, {'id': 88,  'nome': 'As Herdeiras',  'titulo original': 'Las herederas',  'lancamento': '30 de Agosto',  'direcao': 'Marcelo Martinessi',  'genero': 'Drama',  'elenco': 'Ana Brun, Margarita Irun, Ana Ivanova.'}, {'id': 89,  'nome': 'Mamma Mia! Lá Vamos Nós de Novo',  'titulo original': 'Mamma Mia! Here We Go Again',  'lancamento': '02 de agosto de 2018',  'direcao': 'Ol Parker',  'roteiro': 'Ol Parker',  'genero': 'Musical',  'elenco': 'Pierce Brosnan, Meryl Streep, Dominic Cooper, Lily James, Andy García, Amanda Seyfried, Jeremy Irvine, Colin Firth, Hugh Skinner, Stellan Skarsgård, Josh Dylan, Christine Baranski, Jessica Keenan Wynn, Julie Walters, Alexa Davies, Cher.'}, {'id': 90,  'nome': 'Gauguin: Viagem ao Taiti',  'titulo original': 'Gauguin: Voyage de Tahiti',  'lancamento': '23 de agosto',  'direcao': 'Edouard Deluc',  'roteiro': 'Edouard Deluc, Etienne Comar, Thomas Lilti, Sarah Kaminsky',  'genero': 'Drama, Biografia',  'elenco': 'Vincent Cassel, Tuheï Adams, Malik Zidi, Pernille Bergendorff',  'nacionalidade': 'França'}]\n",
    "filmes == cinemasim"
   ]
  },
  {
   "cell_type": "markdown",
   "metadata": {},
   "source": [
    "### Pocilga"
   ]
  },
  {
   "cell_type": "code",
   "execution_count": 78,
   "metadata": {
    "scrolled": true
   },
   "outputs": [
    {
     "data": {
      "text/plain": [
       "[{'id': 91,\n",
       "  'nome': 'O Mistério do Relógio na Parede (The House with a Clock in Its Walls)',\n",
       "  'direcao': 'Eli Roth',\n",
       "  'roteiro': 'Eric Kripke',\n",
       "  'elenco': 'Jack Black, Cate Blanchett, Owen Vaccaro, Renée Elise Goldsberry, Sunny Suljic e Kyle MacLachlan',\n",
       "  'genero': 'Comédia, Fantasia, Família',\n",
       "  'ano': '2018',\n",
       "  'duracao': '105 minutos'},\n",
       " {'id': 92,\n",
       "  'nome': 'Buscando… (Searching)',\n",
       "  'direcao': 'Aneesh Chaganty',\n",
       "  'roteiro': 'Aneesh Chaganty e Sev Ohanian',\n",
       "  'elenco': 'John Cho, Michelle La, Debra Messing, Sara Sohn e Joseph Lee',\n",
       "  'genero': 'Drama, Mistério, Thriller',\n",
       "  'ano': '2018',\n",
       "  'duracao': '102 minutos'},\n",
       " {'id': 93,\n",
       "  'nome': 'Crimes em Happytime (The Happytime Murders)',\n",
       "  'direcao': 'Brian Henson',\n",
       "  'roteiro': 'Todd Berger',\n",
       "  'elenco': 'Melissa McCarthy, Maya Rudolph, Joel McHale, Elizabeth Banks, Leslie David Baker, Bill Barretta e Dorien Davies',\n",
       "  'genero': 'Ação, Comédia, Crime',\n",
       "  'ano': '2018',\n",
       "  'duracao': '91 minutos'},\n",
       " {'id': 94,\n",
       "  'nome': '10 Segundos para Vencer',\n",
       "  'direcao': 'José Alvarenga Jr.',\n",
       "  'roteiro': 'Thomas Stavros',\n",
       "  'elenco': 'Daniel de Oliveira, Osmar Prado, Ricardo Gelli, Sandra Corveloni, Rafael Andrade, Samuel Toledo e Keli Freitas',\n",
       "  'genero': 'Drama, Esporte, Biografia',\n",
       "  'ano': '2018',\n",
       "  'duracao': '120 minutos'},\n",
       " {'id': 95,\n",
       "  'nome': 'A Primeira Noite de Crime (The First Purge)',\n",
       "  'direcao': 'Gerard McMurray',\n",
       "  'roteiro': 'James DeMonaco',\n",
       "  'elenco': 'Y’lan Noel, Lex Scott Davis, Joivan Wade, Mugga, Patch Darragh e Marisa Tomei',\n",
       "  'genero': 'Ação, Terror, Ficção científica e Thriller',\n",
       "  'ano': '2018',\n",
       "  'duracao': '98 minutos'},\n",
       " {'id': 96,\n",
       "  'nome': 'Um Pequeno Favor (A Simple Favor)',\n",
       "  'direcao': 'Paul Feig',\n",
       "  'roteiro': 'Jessica Sharzer',\n",
       "  'elenco': 'Anna Kendrick, Blake Lively, Henry Golding e Andrew Rannells',\n",
       "  'genero': 'Comédia, Crime, Drama',\n",
       "  'ano': '2018',\n",
       "  'duracao': '117 minutos'},\n",
       " {'id': 97,\n",
       "  'nome': 'O Paciente – O Caso Tancredo Neves',\n",
       "  'direcao': 'Sérgio Rezende',\n",
       "  'roteiro': 'Gustavo Liptzein',\n",
       "  'elenco': 'Othon Bastos, Esther Góes, Leonardo Medeiros, Otávio Müller, Paulo Betti, Emílio Dantas, Mário Hermeto e Lucas Drummond',\n",
       "  'genero': 'Biografia',\n",
       "  'ano': '2018',\n",
       "  'duracao': '100 minutos'},\n",
       " {'id': 98,\n",
       "  'nome': 'O Predador (The Predator)',\n",
       "  'direcao': 'Shane Black',\n",
       "  'roteiro': 'Fred Dekker e Shane Black',\n",
       "  'elenco': 'Boyd Holbrook, Trevante Rhodes, Jacob Tremblay, Keegan-Michael Key, Olivia Munn, Thomas Jane, Alfie Allen e Sterling K. Brown',\n",
       "  'genero': 'Ação, Aventura, Terror',\n",
       "  'ano': '2018',\n",
       "  'duracao': '107 minutos'},\n",
       " {'id': 99,\n",
       "  'nome': 'O Banquete',\n",
       "  'direcao': 'Daniela Thomas',\n",
       "  'roteiro': 'Daniela Thomas',\n",
       "  'elenco': 'Drica Moraes, Mariana Lima, Caco Ciocler, Rodrigo Bolzan, Fabiana Gugli, Gustavo Machado, Bruna Linzmeyer, Chay Suede e Georgette Fedal',\n",
       "  'genero': 'Suspense, Drama',\n",
       "  'ano': '2018',\n",
       "  'duracao': '104 minutos'},\n",
       " {'id': 100,\n",
       "  'nome': 'Christopher Robin: Um Reencontro Inesquecível (Christopher Robin)',\n",
       "  'direcao': 'Marc Forster',\n",
       "  'roteiro': 'Alex Ross Perry, Tom McCarthy e Allison Schroeder; história de Greg Brooker e Mark Steven Johnson',\n",
       "  'elenco': 'Ewan McGregor, Hayley Atwell, Jim Cummings e Brad Garrett',\n",
       "  'genero': 'Animação, Aventura, Comédia',\n",
       "  'ano': '2018',\n",
       "  'duracao': '104 minutos'}]"
      ]
     },
     "execution_count": 78,
     "metadata": {},
     "output_type": "execute_result"
    }
   ],
   "source": [
    "xpath_details = '//*[starts-with(@id, \"post-\")]/div[2]/blockquote[2]/p'\n",
    "xpath_title = '//*[starts-with(@id, \"post-\")]/div[2]/h4'\n",
    "\n",
    "filmes = []\n",
    "for i in range(91,101):\n",
    "    filme = {'id': i}\n",
    "    tree = etree.parse(root + str(i) + '.html', parser)\n",
    "    title = tree.xpath(xpath_title)\n",
    "    title = get_element_text(title[0])\n",
    "    filme[\"nome\"] = title.strip()\n",
    "    details = tree.xpath(xpath_details)\n",
    "    details = get_element_text(details[0]).split(\"\\n\")\n",
    "    for item in details:\n",
    "        if item.find(\":\") > -1:\n",
    "            filme[remover_acentos(item[:item.find(\":\")].lower())] = item[item.find(\":\")+1:].strip()\n",
    "    filmes.append(filme)\n",
    "    \n",
    "filmes"
   ]
  },
  {
   "cell_type": "code",
   "execution_count": 79,
   "metadata": {},
   "outputs": [
    {
     "data": {
      "text/plain": [
       "True"
      ]
     },
     "execution_count": 79,
     "metadata": {},
     "output_type": "execute_result"
    }
   ],
   "source": [
    "pocilga = [{'id': 91,  'nome': 'O Mistério do Relógio na Parede (The House with a Clock in Its Walls)',  'direcao': 'Eli Roth',  'roteiro': 'Eric Kripke',  'elenco': 'Jack Black, Cate Blanchett, Owen Vaccaro, Renée Elise Goldsberry, Sunny Suljic e Kyle MacLachlan',  'genero': 'Comédia, Fantasia, Família',  'ano': '2018',  'duracao': '105 minutos'}, {'id': 92,  'nome': 'Buscando… (Searching)',  'direcao': 'Aneesh Chaganty',  'roteiro': 'Aneesh Chaganty e Sev Ohanian',  'elenco': 'John Cho, Michelle La, Debra Messing, Sara Sohn e Joseph Lee',  'genero': 'Drama, Mistério, Thriller',  'ano': '2018',  'duracao': '102 minutos'}, {'id': 93,  'nome': 'Crimes em Happytime (The Happytime Murders)',  'direcao': 'Brian Henson',  'roteiro': 'Todd Berger',  'elenco': 'Melissa McCarthy, Maya Rudolph, Joel McHale, Elizabeth Banks, Leslie David Baker, Bill Barretta e Dorien Davies',  'genero': 'Ação, Comédia, Crime',  'ano': '2018',  'duracao': '91 minutos'}, {'id': 94,  'nome': '10 Segundos para Vencer',  'direcao': 'José Alvarenga Jr.',  'roteiro': 'Thomas Stavros',  'elenco': 'Daniel de Oliveira, Osmar Prado, Ricardo Gelli, Sandra Corveloni, Rafael Andrade, Samuel Toledo e Keli Freitas',  'genero': 'Drama, Esporte, Biografia',  'ano': '2018',  'duracao': '120 minutos'}, {'id': 95,  'nome': 'A Primeira Noite de Crime (The First Purge)',  'direcao': 'Gerard McMurray',  'roteiro': 'James DeMonaco',  'elenco': 'Y’lan Noel, Lex Scott Davis, Joivan Wade, Mugga, Patch Darragh e Marisa Tomei',  'genero': 'Ação, Terror, Ficção científica e Thriller',  'ano': '2018',  'duracao': '98 minutos'}, {'id': 96,  'nome': 'Um Pequeno Favor (A Simple Favor)',  'direcao': 'Paul Feig',  'roteiro': 'Jessica Sharzer',  'elenco': 'Anna Kendrick, Blake Lively, Henry Golding e Andrew Rannells',  'genero': 'Comédia, Crime, Drama',  'ano': '2018',  'duracao': '117 minutos'}, {'id': 97,  'nome': 'O Paciente – O Caso Tancredo Neves',  'direcao': 'Sérgio Rezende',  'roteiro': 'Gustavo Liptzein',  'elenco': 'Othon Bastos, Esther Góes, Leonardo Medeiros, Otávio Müller, Paulo Betti, Emílio Dantas, Mário Hermeto e Lucas Drummond',  'genero': 'Biografia',  'ano': '2018',  'duracao': '100 minutos'}, {'id': 98,  'nome': 'O Predador (The Predator)',  'direcao': 'Shane Black',  'roteiro': 'Fred Dekker e Shane Black',  'elenco': 'Boyd Holbrook, Trevante Rhodes, Jacob Tremblay, Keegan-Michael Key, Olivia Munn, Thomas Jane, Alfie Allen e Sterling K. Brown',  'genero': 'Ação, Aventura, Terror',  'ano': '2018',  'duracao': '107 minutos'}, {'id': 99,  'nome': 'O Banquete',  'direcao': 'Daniela Thomas',  'roteiro': 'Daniela Thomas',  'elenco': 'Drica Moraes, Mariana Lima, Caco Ciocler, Rodrigo Bolzan, Fabiana Gugli, Gustavo Machado, Bruna Linzmeyer, Chay Suede e Georgette Fedal',  'genero': 'Suspense, Drama',  'ano': '2018',  'duracao': '104 minutos'}, {'id': 100,  'nome': 'Christopher Robin: Um Reencontro Inesquecível (Christopher Robin)',  'direcao': 'Marc Forster',  'roteiro': 'Alex Ross Perry, Tom McCarthy e Allison Schroeder; história de Greg Brooker e Mark Steven Johnson',  'elenco': 'Ewan McGregor, Hayley Atwell, Jim Cummings e Brad Garrett',  'genero': 'Animação, Aventura, Comédia',  'ano': '2018',  'duracao': '104 minutos'}]\n",
    "filmes == pocilga"
   ]
  }
 ],
 "metadata": {
  "kernelspec": {
   "display_name": "Python 3",
   "language": "python",
   "name": "python3"
  },
  "language_info": {
   "codemirror_mode": {
    "name": "ipython",
    "version": 3
   },
   "file_extension": ".py",
   "mimetype": "text/x-python",
   "name": "python",
   "nbconvert_exporter": "python",
   "pygments_lexer": "ipython3",
   "version": "3.6.1"
  }
 },
 "nbformat": 4,
 "nbformat_minor": 2
}
