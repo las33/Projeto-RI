{
 "cells": [
  {
   "cell_type": "code",
   "execution_count": 43,
   "metadata": {},
   "outputs": [],
   "source": [
    "# encoding: utf-8\n",
    "# encoding: iso-8859-1\n",
    "# encoding: win-1252\n",
    "import json\n",
    "import nltk\n",
    "from nltk.tokenize import TweetTokenizer\n",
    "from IPython.display import clear_output, display\n",
    "from nltk.corpus import stopwords\n",
    "import re\n",
    "import math\n",
    "\n",
    "\n",
    "tknzr = TweetTokenizer()\n",
    "with open('../inverted_index/inverted_index.json') as f:\n",
    "    inverted_index = json.load(f)\n",
    "    \n",
    "\n",
    "stopwords_en = set(stopwords.words('english'))\n",
    "stopwords_pt = nltk.corpus.stopwords.words('portuguese')\n",
    "especial_c = [\"-\",\",\",\";\",\"'\",\")\",\"(\",\":\", \".\",\"’\",\"–\",\"\",\"...\",\n",
    "              \"eua\",\"estados\",\"unidos\",\"filme\",\"reino\",\"brasil\",\"franca\",\n",
    "              \"espanha\",\"unido\",\"japao\",\"alemanha\",\"italia\",\"suecia\",\"canada\"]\n",
    "\n",
    "\n"
   ]
  },
  {
   "cell_type": "code",
   "execution_count": null,
   "metadata": {},
   "outputs": [],
   "source": []
  },
  {
   "cell_type": "markdown",
   "metadata": {},
   "source": [
    "### Dicionario de titulo, autor e elenco"
   ]
  },
  {
   "cell_type": "code",
   "execution_count": 44,
   "metadata": {},
   "outputs": [
    {
     "name": "stdout",
     "output_type": "stream",
     "text": [
      "18104\n",
      "3742\n",
      "2243\n"
     ]
    }
   ],
   "source": [
    "titulo = {}\n",
    "direcao = {}\n",
    "elenco = {}\n",
    "\n",
    "\n",
    "def converter_string(t):\n",
    "    t = t.lower()  \n",
    "    t= t.replace(\"ã©\",\"é\")\n",
    "    t = t.replace(\"ã§\",\"ç\")\n",
    "    t= t.replace(\"ãº\",\"ú\")\n",
    "    t= t.replace(\"ã¡\",\"á\")\n",
    "    t=t.replace(\"ã£\",\"ã\")\n",
    "    t=t.replace(\"ãª\",\"ê\")\n",
    "    t= t.replace(\"ã³\",\"ó\")\n",
    "    t =t.replace(\"ãµ\",\"õ\")\n",
    "    t =t.replace(\"ã´\",\"ô\")\n",
    "    t = t.replace(\"ã\\xad\",\"í\")\n",
    "    t = re.sub('\\W+','', t )\n",
    "    t = ''.join([i for i in t if not i.isdigit()])\n",
    "    \n",
    "    return t\n",
    "\n",
    "nome = \"\"\n",
    "inverted_index['titulo.pele']\n",
    "for obj in inverted_index:\n",
    "    if(\"titulo.\" in obj):\n",
    "        t = obj\n",
    "        t = t.replace(\"titulo.\",\"\")\n",
    "        t = converter_string(t)\n",
    "        if (t not in stopwords_en) and (t not in stopwords_pt) and (t not in especial_c):\n",
    "            titulo[t] = inverted_index[obj][1]\n",
    "    if(\"direcao.\" in obj):\n",
    "        t = obj\n",
    "        t = t.replace(\"direcao.\",\"\")\n",
    "        t = converter_string(t)\n",
    "        if (t not in stopwords_en) and (t not in stopwords_pt) and (t not in especial_c):\n",
    "            direcao[t] = inverted_index[obj][1]\n",
    "    if(\"elenco.\" in obj):\n",
    "        t = obj\n",
    "        t = t.replace(\"elenco.\",\"\")\n",
    "        t = converter_string(t)\n",
    "        if (t not in stopwords_en) and (t not in stopwords_pt) and (t not in especial_c):\n",
    "            elenco[t] = inverted_index[obj][1]\n",
    "\n",
    "print(len(elenco))\n",
    "print(len(titulo))\n",
    "print(len(direcao))"
   ]
  },
  {
   "cell_type": "markdown",
   "metadata": {},
   "source": [
    "### Dicionario com as probabilidades de cada palavra"
   ]
  },
  {
   "cell_type": "code",
   "execution_count": 45,
   "metadata": {},
   "outputs": [],
   "source": [
    "prob_titulo = {}\n",
    "prob_direcao = {}\n",
    "prob_elenco = {}\n",
    "\n",
    "qtd_titulos = len(titulo)\n",
    "for key, valor in titulo.items():\n",
    "    prob_titulo[key] = len(valor)/qtd_titulos\n",
    "\n",
    "qtd_direcao = len(direcao)\n",
    "for key, valor in direcao.items():\n",
    "    prob_direcao[key] = len(valor)/qtd_direcao\n",
    "\n",
    "qtd_elenco = len(elenco)\n",
    "for key, valor in elenco.items():\n",
    "    prob_elenco[key] = len(valor)/qtd_elenco\n",
    "\n",
    "#prob_direcao"
   ]
  },
  {
   "cell_type": "code",
   "execution_count": 40,
   "metadata": {},
   "outputs": [],
   "source": [
    "# import operator\n",
    "# sortede = sorted(prob_titulo.items(), key=operator.itemgetter(1),reverse=True)\n",
    "# sortede"
   ]
  },
  {
   "cell_type": "code",
   "execution_count": 3,
   "metadata": {},
   "outputs": [
    {
     "data": {
      "text/plain": [
       "2244"
      ]
     },
     "execution_count": 3,
     "metadata": {},
     "output_type": "execute_result"
    }
   ],
   "source": [
    "   "
   ]
  },
  {
   "cell_type": "code",
   "execution_count": 46,
   "metadata": {},
   "outputs": [
    {
     "name": "stdout",
     "output_type": "stream",
     "text": [
      "The Cython extension is already loaded. To reload it, use:\n",
      "  %reload_ext Cython\n"
     ]
    }
   ],
   "source": [
    "%load_ext Cython"
   ]
  },
  {
   "cell_type": "code",
   "execution_count": null,
   "metadata": {},
   "outputs": [
    {
     "name": "stdout",
     "output_type": "stream",
     "text": [
      "porcentagem: 0.7579135086937138\n"
     ]
    }
   ],
   "source": [
    "%%cython\n",
    "from __main__ import *\n",
    "\n",
    "\n",
    "def mutual_info(dicionario, prob_list):\n",
    "    retorno = {}\n",
    "    independente = 1\n",
    "    cont = 0\n",
    "    keys = list(dicionario.keys())\n",
    "    tamanho = len(keys)\n",
    "    for i in range(tamanho):\n",
    "        cont = cont+1\n",
    "        clear_output(wait=True)\n",
    "        print(\"porcentagem: \" + str(((cont/tamanho)*100)))\n",
    "        key_a = keys[i]\n",
    "        val_a = dicionario[key_a]\n",
    "        for j in range(i+1,tamanho):\n",
    "            key_b = keys[j]\n",
    "            val_b = dicionario[key_b]\n",
    "            for k in range(j+1,tamanho):\n",
    "                key_c = keys[k]\n",
    "                val_c = dicionario[key_c]\n",
    "                for a in val_a:\n",
    "                    independente = 1\n",
    "                    for b in val_b:\n",
    "                        if b == a:\n",
    "                            for c in val_c:\n",
    "                                if c == a:\n",
    "                                    t = (key_a, key_b, key_c)\n",
    "                                    #print(t)                    \n",
    "                                    if t in retorno:\n",
    "                                        retorno[t] = retorno[t] +1\n",
    "                                    else:\n",
    "                                        retorno[t] = 1\n",
    "                                if c > a:\n",
    "                                    break\n",
    "                        if b > a:\n",
    "                            break\n",
    "    for n in retorno:\n",
    "        retorno[n] = math.log2(retorno[n]/(prob_list[n[0]]*prob_list[n[1]]*prob_list[n[2]]))\n",
    "\n",
    "    return retorno\n",
    "\n",
    "direcao_mi = mutual_info(direcao, prob_direcao)\n",
    "titulo_mi  = mutual_info(titulo, prob_titulo)\n",
    "elenco_mi  = mutual_info(elenco, prob_elenco) \n"
   ]
  },
  {
   "cell_type": "code",
   "execution_count": null,
   "metadata": {},
   "outputs": [],
   "source": [
    "# import math\n",
    "# m_info = {}\n",
    "# for n in probs:\n",
    "#     m_info[n] = math.log2(prob_nomes[n[0]]*prob_nomes[n[1]]*prob_nomes[n[2]])\n",
    "\n",
    "# final = dict(m_info)\n",
    "# final.update(probs_idp)"
   ]
  },
  {
   "cell_type": "code",
   "execution_count": null,
   "metadata": {},
   "outputs": [],
   "source": [
    "# m_info\n",
    "# sorted_y = sorted(m_info.items(), key=operator.itemgetter(1),reverse=True)\n",
    "# sorted_y"
   ]
  },
  {
   "cell_type": "code",
   "execution_count": null,
   "metadata": {},
   "outputs": [],
   "source": []
  }
 ],
 "metadata": {
  "kernelspec": {
   "display_name": "Python 3",
   "language": "python",
   "name": "python3"
  },
  "language_info": {
   "codemirror_mode": {
    "name": "ipython",
    "version": 3
   },
   "file_extension": ".py",
   "mimetype": "text/x-python",
   "name": "python",
   "nbconvert_exporter": "python",
   "pygments_lexer": "ipython3",
   "version": "3.6.5"
  }
 },
 "nbformat": 4,
 "nbformat_minor": 2
}
