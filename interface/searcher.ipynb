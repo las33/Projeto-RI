{
 "cells": [
  {
   "cell_type": "code",
   "execution_count": 20,
   "metadata": {},
   "outputs": [],
   "source": [
    "from tkinter import *\n",
    "import pandas as pd\n",
    "\n",
    "root = Tk()\n",
    "root.geometry(\"500x700\") \n",
    "root.resizable(0, 0) \n",
    "root.title(\"Recuperação de informação\")\n",
    "lHead = Label(root, font=(\"Helvetica\", 24), text=\"Busca de filmes\\n\")\n",
    "lHead.pack()\n",
    "\n",
    "\n",
    "varcheck = IntVar()\n",
    "\n",
    "check_idf = Checkbutton(root, text=\"Realizar pesquisas usando tf-idf\", variable=varcheck)\n",
    "check_idf.pack()\n",
    "\n",
    "label_nome = Label(root, text=\"\\nPesquisar por Nome\", font=(\"Helvetica\", 15))\n",
    "label_nome.pack()\n",
    "label_nome_minfo = Label(root, font=(\"Helvetica\", 10),text=\"Palavras com maior mutual information:\")\n",
    "label_nome_minfo.pack()\n",
    "entry_nome = Entry(root)\n",
    "entry_nome.pack()\n",
    "entry_nome.focus_set()\n",
    "button_nome = Button(root, text=\"Pesquisar\")\n",
    "button_nome.pack()\n",
    "\n",
    "label_direcao = Label(root, text=\"\\nPesquisar por Direção\", font=(\"Helvetica\", 15))\n",
    "label_direcao.pack()\n",
    "label_direcao_minfo = Label(root, font=(\"Helvetica\", 10), text=\"Palavras com maior mutual information:\")\n",
    "label_direcao_minfo.pack()\n",
    "entry_direcao = Entry(root)\n",
    "entry_direcao.pack()\n",
    "entry_direcao.focus_set()\n",
    "button_direcao = Button(root, text=\"Pesquisar\")\n",
    "button_direcao.pack()\n",
    "\n",
    "\n",
    "label_elenco = Label(root, text=\"\\nPesquisar por Elenco\", font=(\"Helvetica\", 15))\n",
    "label_elenco.pack()\n",
    "label_elenco_minfo = Label(root, font=(\"Helvetica\", 10), text=\"Palavras com maior mutual information:\")\n",
    "label_elenco_minfo.pack()\n",
    "entry_elenco = Entry(root)\n",
    "entry_elenco.pack()\n",
    "entry_elenco.focus_set()\n",
    "button_elenco = Button(root, text=\"Pesquisar\")\n",
    "button_elenco.pack()\n",
    "\n",
    "\n",
    "label_keyword = Label(root, text=\"\\nPesquisa por Palavra-Chave\", font=(\"Helvetica\", 15))\n",
    "label_keyword.pack()\n",
    "label_keyword_entry = Entry(root)\n",
    "label_keyword_entry.pack()\n",
    "label_keyword_entry.focus_set()\n",
    "button_keyword = Button(root, text=\"Pesquisar\")\n",
    "button_keyword.pack()\n",
    "\n",
    "mainloop()"
   ]
  },
  {
   "cell_type": "code",
   "execution_count": null,
   "metadata": {},
   "outputs": [],
   "source": []
  },
  {
   "cell_type": "code",
   "execution_count": null,
   "metadata": {},
   "outputs": [],
   "source": []
  }
 ],
 "metadata": {
  "kernelspec": {
   "display_name": "Python 3",
   "language": "python",
   "name": "python3"
  },
  "language_info": {
   "codemirror_mode": {
    "name": "ipython",
    "version": 3
   },
   "file_extension": ".py",
   "mimetype": "text/x-python",
   "name": "python",
   "nbconvert_exporter": "python",
   "pygments_lexer": "ipython3",
   "version": "3.6.5"
  }
 },
 "nbformat": 4,
 "nbformat_minor": 2
}
