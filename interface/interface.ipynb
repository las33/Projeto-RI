{
 "cells": [
  {
   "cell_type": "code",
   "execution_count": 13,
   "metadata": {},
   "outputs": [],
   "source": [
    "from tkinter import *\n",
    "import pandas as pd\n",
    "\n",
    "root = Tk()\n",
    "root.geometry(\"500x700\") \n",
    "root.resizable(0, 0) \n",
    "root.title(\"Recuperação de informação\")\n",
    "lHead = Label(root, font=(\"Helvetica\", 24), text=\"Busca de filmes\\n\")\n",
    "lHead.pack()\n",
    "\n",
    "def bAutorFunc():\n",
    "    frame.config({'borderwidth':2})\n",
    "    r1.set(str(\"www.googledddddddddddddddddddddddddddddddddd.com\") + '    Score: '+str(\"2\"))\n",
    "    r2.set(str(\"www.google.com\") + '    Score: '+str(\"2\"))\n",
    "    r3.set(str(\"www.google.com\") + '    Score: '+str(\"2\"))\n",
    "    r4.set(str(\"www.google.com\") + '    Score: '+str(\"2\"))\n",
    "    r5.set(str(\"www.google.com\") + '    Score: '+str(\"2\"))\n",
    "\n",
    "\n",
    "varcheck = IntVar()\n",
    "\n",
    "check_idf = Checkbutton(root, text=\"Realizar pesquisas usando tf-idf\", variable=varcheck)\n",
    "check_idf.pack()\n",
    "\n",
    "label_nome = Label(root, text=\"\\nPesquisar por Nome\", font=(\"Helvetica\", 15))\n",
    "label_nome.pack()\n",
    "label_nome_minfo = Label(root, font=(\"Helvetica\", 10),text=\"Palavras com maior mutual information: jee, woon, yim\")\n",
    "label_nome_minfo.pack()\n",
    "entry_nome = Entry(root)\n",
    "entry_nome.pack()\n",
    "entry_nome.focus_set()\n",
    "button_nome = Button(root, text=\"Pesquisar\", command=bAutorFunc)\n",
    "button_nome.pack()\n",
    "\n",
    "label_direcao = Label(root, text=\"\\nPesquisar por Direção\", font=(\"Helvetica\", 15))\n",
    "label_direcao.pack()\n",
    "label_direcao_minfo = Label(root, font=(\"Helvetica\", 10), text=\"Palavras com maior mutual information: texas, chain, saw\")\n",
    "label_direcao_minfo.pack()\n",
    "entry_direcao = Entry(root)\n",
    "entry_direcao.pack()\n",
    "entry_direcao.focus_set()\n",
    "button_direcao = Button(root, text=\"Pesquisar\")\n",
    "button_direcao.pack()\n",
    "\n",
    "\n",
    "label_elenco = Label(root, text=\"\\nPesquisar por Elenco\", font=(\"Helvetica\", 15))\n",
    "label_elenco.pack()\n",
    "label_elenco_minfo = Label(root, font=(\"Helvetica\", 10), text=\"Palavras com maior mutual information: tiedje, corona, kubota\")\n",
    "label_elenco_minfo.pack()\n",
    "entry_elenco = Entry(root)\n",
    "entry_elenco.pack()\n",
    "entry_elenco.focus_set()\n",
    "button_elenco = Button(root, text=\"Pesquisar\")\n",
    "button_elenco.pack()\n",
    "\n",
    "\n",
    "label_keyword = Label(root, text=\"\\nPesquisa por Palavra-Chave\", font=(\"Helvetica\", 15))\n",
    "label_keyword.pack()\n",
    "label_keyword_entry = Entry(root)\n",
    "label_keyword_entry.pack()\n",
    "label_keyword_entry.focus_set()\n",
    "button_keyword = Button(root, text=\"Pesquisar\")\n",
    "button_keyword.pack()\n",
    "\n",
    "r1 = StringVar()\n",
    "r2 = StringVar()\n",
    "r3 = StringVar()\n",
    "r4 = StringVar()\n",
    "r5 = StringVar()\n",
    "\n",
    "frame = Frame(width=300, height=100, borderwidth=0, relief=GROOVE)\n",
    "frame.pack()\n",
    "\n",
    "Label(frame, font=(\"Helvetica\", 9),textvariable=r1).pack()\n",
    "Label(frame, font=(\"Helvetica\", 9),textvariable=r2).pack()\n",
    "Label(frame, font=(\"Helvetica\", 9),textvariable=r3).pack()\n",
    "Label(frame, font=(\"Helvetica\", 9),textvariable=r4).pack()\n",
    "Label(frame, font=(\"Helvetica\", 9),textvariable=r5).pack()\n",
    "\n",
    "\n",
    "mainloop()"
   ]
  },
  {
   "cell_type": "code",
   "execution_count": null,
   "metadata": {
    "collapsed": true
   },
   "outputs": [],
   "source": []
  },
  {
   "cell_type": "code",
   "execution_count": null,
   "metadata": {
    "collapsed": true
   },
   "outputs": [],
   "source": []
  },
  {
   "cell_type": "code",
   "execution_count": null,
   "metadata": {
    "collapsed": true
   },
   "outputs": [],
   "source": []
  }
 ],
 "metadata": {
  "kernelspec": {
   "display_name": "Python 3",
   "language": "python",
   "name": "python3"
  },
  "language_info": {
   "codemirror_mode": {
    "name": "ipython",
    "version": 3
   },
   "file_extension": ".py",
   "mimetype": "text/x-python",
   "name": "python",
   "nbconvert_exporter": "python",
   "pygments_lexer": "ipython3",
   "version": "3.6.2"
  }
 },
 "nbformat": 4,
 "nbformat_minor": 2
}
