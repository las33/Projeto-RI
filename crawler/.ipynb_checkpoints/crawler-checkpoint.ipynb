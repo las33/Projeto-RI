{
 "cells": [
  {
   "cell_type": "markdown",
   "metadata": {},
   "source": [
    "## Web Crawler de criticas de filmes"
   ]
  },
  {
   "cell_type": "code",
   "execution_count": 1,
   "metadata": {},
   "outputs": [],
   "source": [
    "import pandas as pd\n",
    "import numpy as np\n",
    "import requests as rq\n",
    "from bs4 import BeautifulSoup\n"
   ]
  },
  {
   "cell_type": "markdown",
   "metadata": {},
   "source": [
    "### Paginas"
   ]
  },
  {
   "cell_type": "code",
   "execution_count": 2,
   "metadata": {},
   "outputs": [],
   "source": [
    "paginas = [('Elpais','https://brasil.elpais.com/'), ('Omelete','http://www.omelete.com.br'),\n",
    "('Cinema_em_Cena','http://cinemaemcena.cartacapital.com.br/'),('Cineclick','https://www.cineclick.com.br/'),\n",
    "('Jornal_da_Paraiba','http://www.jornaldaparaiba.com.br/'), ('Cinema_com_Rapadura','https://cinemacomrapadura.com.br/'),\n",
    "('Plano_Critico','http://www.planocritico.com/'),('Plano_Aberto','http://www.planoaberto.com.br/'),\n",
    "('Cinemasim','http://www.cinemasim.com.br/'), ('Pocilga','http://pocilga.com.br/')]"
   ]
  },
  {
   "cell_type": "markdown",
   "metadata": {},
   "source": [
    "### Pegando Robots.txt\n",
    "\n",
    "   ##### Site http://cinemaemcena.cartacapital.com.br/ não possui o arquivo"
   ]
  },
  {
   "cell_type": "code",
   "execution_count": 3,
   "metadata": {},
   "outputs": [],
   "source": [
    "for i in range(len(paginas)):\n",
    "    url = paginas[i][1] + '/robots.txt'\n",
    "    headers = {'User-Agent': 'leonardo'}\n",
    "    r = rq.get(url, headers=headers)\n",
    "    filename = 'robots/' + paginas[i][0] + \".txt\"\n",
    "    with open(filename, 'wb') as file:\n",
    "        for content in r.iter_content():\n",
    "            file.write(content)"
   ]
  },
  {
   "cell_type": "code",
   "execution_count": null,
   "metadata": {},
   "outputs": [],
   "source": []
  }
 ],
 "metadata": {
  "kernelspec": {
   "display_name": "Python 3",
   "language": "python",
   "name": "python3"
  },
  "language_info": {
   "codemirror_mode": {
    "name": "ipython",
    "version": 3
   },
   "file_extension": ".py",
   "mimetype": "text/x-python",
   "name": "python",
   "nbconvert_exporter": "python",
   "pygments_lexer": "ipython3",
   "version": "3.6.5"
  }
 },
 "nbformat": 4,
 "nbformat_minor": 2
}
